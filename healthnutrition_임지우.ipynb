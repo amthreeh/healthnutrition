{
  "nbformat": 4,
  "nbformat_minor": 0,
  "metadata": {
    "colab": {
      "provenance": [],
      "mount_file_id": "1MfcnRVJRfkZqjJd_x20dcnQjnQWrQGSK",
      "authorship_tag": "ABX9TyOHipEYHdZhfuqmIobSFAOb",
      "include_colab_link": true
    },
    "kernelspec": {
      "name": "python3",
      "display_name": "Python 3"
    },
    "language_info": {
      "name": "python"
    }
  },
  "cells": [
    {
      "cell_type": "markdown",
      "metadata": {
        "id": "view-in-github",
        "colab_type": "text"
      },
      "source": [
        "<a href=\"https://colab.research.google.com/github/amthreeh/healthnutrition/blob/main/healthnutrition_%EC%9E%84%EC%A7%80%EC%9A%B0.ipynb\" target=\"_parent\"><img src=\"https://colab.research.google.com/assets/colab-badge.svg\" alt=\"Open In Colab\"/></a>"
      ]
    },
    {
      "cell_type": "code",
      "source": [
        "from google.colab import drive\n",
        "drive.mount('/content/drive')"
      ],
      "metadata": {
        "id": "mHTipIY7hKXd"
      },
      "execution_count": null,
      "outputs": []
    },
    {
      "cell_type": "code",
      "source": [
        "import pandas as pd\n",
        "import numpy as np\n",
        "import seaborn as sns\n",
        "import matplotlib as mpl \n",
        "import matplotlib.pyplot as plt\n",
        "%matplotlib inline"
      ],
      "metadata": {
        "id": "4z_r1FtjYilt"
      },
      "execution_count": 2,
      "outputs": []
    },
    {
      "cell_type": "code",
      "source": [
        "import matplotlib.font_manager as fm  \n",
        "\n",
        "!apt-get update -qq\n",
        "!apt-get install fonts-nanum* -qq\n",
        "\n",
        "path = '/usr/share/fonts/truetype/nanum/NanumBarunGothic.ttf' \n",
        "font_name = fm.FontProperties(fname=path, size=10).get_name()\n",
        "print(font_name)\n",
        "plt.rc('font', family=font_name)\n",
        "\n",
        "fm._rebuild()\n",
        "mpl.rcParams['axes.unicode_minus'] = False"
      ],
      "metadata": {
        "colab": {
          "base_uri": "https://localhost:8080/"
        },
        "id": "cr0u80ATeNIm",
        "outputId": "4bc33dec-a313-4ae9-801d-ab2c9118ebcb"
      },
      "execution_count": 3,
      "outputs": [
        {
          "output_type": "stream",
          "name": "stdout",
          "text": [
            "NanumBarunGothic\n"
          ]
        }
      ]
    },
    {
      "cell_type": "code",
      "source": [
        "%cd /content/drive/MyDrive/nationalhealth-main"
      ],
      "metadata": {
        "colab": {
          "base_uri": "https://localhost:8080/"
        },
        "id": "39PNeeWvYnrN",
        "outputId": "456c5227-7314-42d9-a976-5b8188fc4384"
      },
      "execution_count": 4,
      "outputs": [
        {
          "output_type": "stream",
          "name": "stdout",
          "text": [
            "/content/drive/MyDrive/nationalhealth-main\n"
          ]
        }
      ]
    },
    {
      "cell_type": "code",
      "source": [
        "df = pd.read_csv('/content/drive/MyDrive/nationalhealth-main/nationalhealth_2010to2021.csv')\n",
        "df.head()"
      ],
      "metadata": {
        "colab": {
          "base_uri": "https://localhost:8080/",
          "height": 297
        },
        "id": "S4UNV1fMYlwl",
        "outputId": "749463e1-3020-4fbc-c655-4d7024464807"
      },
      "execution_count": 5,
      "outputs": [
        {
          "output_type": "execute_result",
          "data": {
            "text/plain": [
              "              ID       ID_fam    year  region  town_t  sex   age  incm  \\\n",
              "0  b'A308780901'  b'A3087809'  2010.0     1.0     1.0  1.0  74.0   3.0   \n",
              "1  b'A309099802'  b'A3090998'  2010.0     1.0     1.0  2.0  71.0   2.0   \n",
              "2  b'A309460901'  b'A3094609'  2010.0     1.0     1.0  2.0  61.0   3.0   \n",
              "3  b'A309460902'  b'A3094609'  2010.0     1.0     1.0  1.0  32.0   2.0   \n",
              "4  b'A310439801'  b'A3104398'  2010.0     1.0     1.0  2.0  63.0   4.0   \n",
              "\n",
              "   ho_incm  incm5  ...  고콜레스테롤혈증  고중성지방혈증  B형간염   빈혈  뇌졸중  협심증또는심근경색증   천식  \\\n",
              "0      2.0    4.0  ...       0.0      1.0   0.0  0.0 -1.0        -1.0  0.0   \n",
              "1      1.0    2.0  ...       0.0      0.0   0.0  0.0 -1.0        -1.0 -1.0   \n",
              "2      2.0    4.0  ...       0.0      0.0   0.0  0.0 -1.0        -1.0  1.0   \n",
              "3      2.0    2.0  ...       0.0      1.0   0.0  0.0 -1.0        -1.0 -1.0   \n",
              "4      4.0    5.0  ...       0.0      0.0   0.0  0.0 -1.0        -1.0 -1.0   \n",
              "\n",
              "   아토피피부염  골관절염  우울증  \n",
              "0    -1.0  -1.0 -1.0  \n",
              "1    -1.0  -1.0 -1.0  \n",
              "2    -1.0   1.0 -1.0  \n",
              "3    -1.0  -1.0  1.0  \n",
              "4    -1.0   1.0 -1.0  \n",
              "\n",
              "[5 rows x 122 columns]"
            ],
            "text/html": [
              "\n",
              "  <div id=\"df-57c1cead-1669-43e1-b883-84abc470f557\">\n",
              "    <div class=\"colab-df-container\">\n",
              "      <div>\n",
              "<style scoped>\n",
              "    .dataframe tbody tr th:only-of-type {\n",
              "        vertical-align: middle;\n",
              "    }\n",
              "\n",
              "    .dataframe tbody tr th {\n",
              "        vertical-align: top;\n",
              "    }\n",
              "\n",
              "    .dataframe thead th {\n",
              "        text-align: right;\n",
              "    }\n",
              "</style>\n",
              "<table border=\"1\" class=\"dataframe\">\n",
              "  <thead>\n",
              "    <tr style=\"text-align: right;\">\n",
              "      <th></th>\n",
              "      <th>ID</th>\n",
              "      <th>ID_fam</th>\n",
              "      <th>year</th>\n",
              "      <th>region</th>\n",
              "      <th>town_t</th>\n",
              "      <th>sex</th>\n",
              "      <th>age</th>\n",
              "      <th>incm</th>\n",
              "      <th>ho_incm</th>\n",
              "      <th>incm5</th>\n",
              "      <th>...</th>\n",
              "      <th>고콜레스테롤혈증</th>\n",
              "      <th>고중성지방혈증</th>\n",
              "      <th>B형간염</th>\n",
              "      <th>빈혈</th>\n",
              "      <th>뇌졸중</th>\n",
              "      <th>협심증또는심근경색증</th>\n",
              "      <th>천식</th>\n",
              "      <th>아토피피부염</th>\n",
              "      <th>골관절염</th>\n",
              "      <th>우울증</th>\n",
              "    </tr>\n",
              "  </thead>\n",
              "  <tbody>\n",
              "    <tr>\n",
              "      <th>0</th>\n",
              "      <td>b'A308780901'</td>\n",
              "      <td>b'A3087809'</td>\n",
              "      <td>2010.0</td>\n",
              "      <td>1.0</td>\n",
              "      <td>1.0</td>\n",
              "      <td>1.0</td>\n",
              "      <td>74.0</td>\n",
              "      <td>3.0</td>\n",
              "      <td>2.0</td>\n",
              "      <td>4.0</td>\n",
              "      <td>...</td>\n",
              "      <td>0.0</td>\n",
              "      <td>1.0</td>\n",
              "      <td>0.0</td>\n",
              "      <td>0.0</td>\n",
              "      <td>-1.0</td>\n",
              "      <td>-1.0</td>\n",
              "      <td>0.0</td>\n",
              "      <td>-1.0</td>\n",
              "      <td>-1.0</td>\n",
              "      <td>-1.0</td>\n",
              "    </tr>\n",
              "    <tr>\n",
              "      <th>1</th>\n",
              "      <td>b'A309099802'</td>\n",
              "      <td>b'A3090998'</td>\n",
              "      <td>2010.0</td>\n",
              "      <td>1.0</td>\n",
              "      <td>1.0</td>\n",
              "      <td>2.0</td>\n",
              "      <td>71.0</td>\n",
              "      <td>2.0</td>\n",
              "      <td>1.0</td>\n",
              "      <td>2.0</td>\n",
              "      <td>...</td>\n",
              "      <td>0.0</td>\n",
              "      <td>0.0</td>\n",
              "      <td>0.0</td>\n",
              "      <td>0.0</td>\n",
              "      <td>-1.0</td>\n",
              "      <td>-1.0</td>\n",
              "      <td>-1.0</td>\n",
              "      <td>-1.0</td>\n",
              "      <td>-1.0</td>\n",
              "      <td>-1.0</td>\n",
              "    </tr>\n",
              "    <tr>\n",
              "      <th>2</th>\n",
              "      <td>b'A309460901'</td>\n",
              "      <td>b'A3094609'</td>\n",
              "      <td>2010.0</td>\n",
              "      <td>1.0</td>\n",
              "      <td>1.0</td>\n",
              "      <td>2.0</td>\n",
              "      <td>61.0</td>\n",
              "      <td>3.0</td>\n",
              "      <td>2.0</td>\n",
              "      <td>4.0</td>\n",
              "      <td>...</td>\n",
              "      <td>0.0</td>\n",
              "      <td>0.0</td>\n",
              "      <td>0.0</td>\n",
              "      <td>0.0</td>\n",
              "      <td>-1.0</td>\n",
              "      <td>-1.0</td>\n",
              "      <td>1.0</td>\n",
              "      <td>-1.0</td>\n",
              "      <td>1.0</td>\n",
              "      <td>-1.0</td>\n",
              "    </tr>\n",
              "    <tr>\n",
              "      <th>3</th>\n",
              "      <td>b'A309460902'</td>\n",
              "      <td>b'A3094609'</td>\n",
              "      <td>2010.0</td>\n",
              "      <td>1.0</td>\n",
              "      <td>1.0</td>\n",
              "      <td>1.0</td>\n",
              "      <td>32.0</td>\n",
              "      <td>2.0</td>\n",
              "      <td>2.0</td>\n",
              "      <td>2.0</td>\n",
              "      <td>...</td>\n",
              "      <td>0.0</td>\n",
              "      <td>1.0</td>\n",
              "      <td>0.0</td>\n",
              "      <td>0.0</td>\n",
              "      <td>-1.0</td>\n",
              "      <td>-1.0</td>\n",
              "      <td>-1.0</td>\n",
              "      <td>-1.0</td>\n",
              "      <td>-1.0</td>\n",
              "      <td>1.0</td>\n",
              "    </tr>\n",
              "    <tr>\n",
              "      <th>4</th>\n",
              "      <td>b'A310439801'</td>\n",
              "      <td>b'A3104398'</td>\n",
              "      <td>2010.0</td>\n",
              "      <td>1.0</td>\n",
              "      <td>1.0</td>\n",
              "      <td>2.0</td>\n",
              "      <td>63.0</td>\n",
              "      <td>4.0</td>\n",
              "      <td>4.0</td>\n",
              "      <td>5.0</td>\n",
              "      <td>...</td>\n",
              "      <td>0.0</td>\n",
              "      <td>0.0</td>\n",
              "      <td>0.0</td>\n",
              "      <td>0.0</td>\n",
              "      <td>-1.0</td>\n",
              "      <td>-1.0</td>\n",
              "      <td>-1.0</td>\n",
              "      <td>-1.0</td>\n",
              "      <td>1.0</td>\n",
              "      <td>-1.0</td>\n",
              "    </tr>\n",
              "  </tbody>\n",
              "</table>\n",
              "<p>5 rows × 122 columns</p>\n",
              "</div>\n",
              "      <button class=\"colab-df-convert\" onclick=\"convertToInteractive('df-57c1cead-1669-43e1-b883-84abc470f557')\"\n",
              "              title=\"Convert this dataframe to an interactive table.\"\n",
              "              style=\"display:none;\">\n",
              "        \n",
              "  <svg xmlns=\"http://www.w3.org/2000/svg\" height=\"24px\"viewBox=\"0 0 24 24\"\n",
              "       width=\"24px\">\n",
              "    <path d=\"M0 0h24v24H0V0z\" fill=\"none\"/>\n",
              "    <path d=\"M18.56 5.44l.94 2.06.94-2.06 2.06-.94-2.06-.94-.94-2.06-.94 2.06-2.06.94zm-11 1L8.5 8.5l.94-2.06 2.06-.94-2.06-.94L8.5 2.5l-.94 2.06-2.06.94zm10 10l.94 2.06.94-2.06 2.06-.94-2.06-.94-.94-2.06-.94 2.06-2.06.94z\"/><path d=\"M17.41 7.96l-1.37-1.37c-.4-.4-.92-.59-1.43-.59-.52 0-1.04.2-1.43.59L10.3 9.45l-7.72 7.72c-.78.78-.78 2.05 0 2.83L4 21.41c.39.39.9.59 1.41.59.51 0 1.02-.2 1.41-.59l7.78-7.78 2.81-2.81c.8-.78.8-2.07 0-2.86zM5.41 20L4 18.59l7.72-7.72 1.47 1.35L5.41 20z\"/>\n",
              "  </svg>\n",
              "      </button>\n",
              "      \n",
              "  <style>\n",
              "    .colab-df-container {\n",
              "      display:flex;\n",
              "      flex-wrap:wrap;\n",
              "      gap: 12px;\n",
              "    }\n",
              "\n",
              "    .colab-df-convert {\n",
              "      background-color: #E8F0FE;\n",
              "      border: none;\n",
              "      border-radius: 50%;\n",
              "      cursor: pointer;\n",
              "      display: none;\n",
              "      fill: #1967D2;\n",
              "      height: 32px;\n",
              "      padding: 0 0 0 0;\n",
              "      width: 32px;\n",
              "    }\n",
              "\n",
              "    .colab-df-convert:hover {\n",
              "      background-color: #E2EBFA;\n",
              "      box-shadow: 0px 1px 2px rgba(60, 64, 67, 0.3), 0px 1px 3px 1px rgba(60, 64, 67, 0.15);\n",
              "      fill: #174EA6;\n",
              "    }\n",
              "\n",
              "    [theme=dark] .colab-df-convert {\n",
              "      background-color: #3B4455;\n",
              "      fill: #D2E3FC;\n",
              "    }\n",
              "\n",
              "    [theme=dark] .colab-df-convert:hover {\n",
              "      background-color: #434B5C;\n",
              "      box-shadow: 0px 1px 3px 1px rgba(0, 0, 0, 0.15);\n",
              "      filter: drop-shadow(0px 1px 2px rgba(0, 0, 0, 0.3));\n",
              "      fill: #FFFFFF;\n",
              "    }\n",
              "  </style>\n",
              "\n",
              "      <script>\n",
              "        const buttonEl =\n",
              "          document.querySelector('#df-57c1cead-1669-43e1-b883-84abc470f557 button.colab-df-convert');\n",
              "        buttonEl.style.display =\n",
              "          google.colab.kernel.accessAllowed ? 'block' : 'none';\n",
              "\n",
              "        async function convertToInteractive(key) {\n",
              "          const element = document.querySelector('#df-57c1cead-1669-43e1-b883-84abc470f557');\n",
              "          const dataTable =\n",
              "            await google.colab.kernel.invokeFunction('convertToInteractive',\n",
              "                                                     [key], {});\n",
              "          if (!dataTable) return;\n",
              "\n",
              "          const docLinkHtml = 'Like what you see? Visit the ' +\n",
              "            '<a target=\"_blank\" href=https://colab.research.google.com/notebooks/data_table.ipynb>data table notebook</a>'\n",
              "            + ' to learn more about interactive tables.';\n",
              "          element.innerHTML = '';\n",
              "          dataTable['output_type'] = 'display_data';\n",
              "          await google.colab.output.renderOutput(dataTable, element);\n",
              "          const docLink = document.createElement('div');\n",
              "          docLink.innerHTML = docLinkHtml;\n",
              "          element.appendChild(docLink);\n",
              "        }\n",
              "      </script>\n",
              "    </div>\n",
              "  </div>\n",
              "  "
            ]
          },
          "metadata": {},
          "execution_count": 5
        }
      ]
    },
    {
      "cell_type": "code",
      "source": [
        "df.info()\n",
        "df.isnull().sum()"
      ],
      "metadata": {
        "colab": {
          "base_uri": "https://localhost:8080/"
        },
        "id": "rSEBPvsZYqsk",
        "outputId": "15944dd0-4aa2-4980-b143-2e9cdf84720f"
      },
      "execution_count": 6,
      "outputs": [
        {
          "output_type": "stream",
          "name": "stdout",
          "text": [
            "<class 'pandas.core.frame.DataFrame'>\n",
            "RangeIndex: 35629 entries, 0 to 35628\n",
            "Columns: 122 entries, ID to 우울증\n",
            "dtypes: float64(120), object(2)\n",
            "memory usage: 33.2+ MB\n"
          ]
        },
        {
          "output_type": "execute_result",
          "data": {
            "text/plain": [
              "ID            0\n",
              "ID_fam        0\n",
              "year          0\n",
              "region        0\n",
              "town_t        0\n",
              "             ..\n",
              "협심증또는심근경색증    0\n",
              "천식            0\n",
              "아토피피부염        0\n",
              "골관절염          0\n",
              "우울증           0\n",
              "Length: 122, dtype: int64"
            ]
          },
          "metadata": {},
          "execution_count": 6
        }
      ]
    },
    {
      "cell_type": "code",
      "source": [
        "df.columns"
      ],
      "metadata": {
        "colab": {
          "base_uri": "https://localhost:8080/"
        },
        "id": "5YgCE-TciKN_",
        "outputId": "6223c021-9502-48ce-a91c-eb7422fd84d6"
      },
      "execution_count": 9,
      "outputs": [
        {
          "output_type": "execute_result",
          "data": {
            "text/plain": [
              "Index(['ID', 'ID_fam', 'year', 'region', 'town_t', 'sex', 'age', 'incm',\n",
              "       'ho_incm', 'incm5',\n",
              "       ...\n",
              "       '고콜레스테롤혈증', '고중성지방혈증', 'B형간염', '빈혈', '뇌졸중', '협심증또는심근경색증', '천식',\n",
              "       '아토피피부염', '골관절염', '우울증'],\n",
              "      dtype='object', length=122)"
            ]
          },
          "metadata": {},
          "execution_count": 9
        }
      ]
    },
    {
      "cell_type": "markdown",
      "source": [
        "##'연도 변화에 따른 신체/질병 특성의 변화'"
      ],
      "metadata": {
        "id": "Gw_426BmK5js"
      }
    },
    {
      "cell_type": "code",
      "source": [
        "s = df.groupby('year').size()\n",
        "\n",
        "s.plot(color='grey', kind='bar', rot=0)\n",
        "plt.title(\"연도별\")\n",
        "plt.tight_layout()"
      ],
      "metadata": {
        "colab": {
          "base_uri": "https://localhost:8080/",
          "height": 297
        },
        "id": "CsO1Mwg0Y0ZB",
        "outputId": "eab32de9-e3ed-4f06-b6ad-d49e74e4d5b9"
      },
      "execution_count": 7,
      "outputs": [
        {
          "output_type": "display_data",
          "data": {
            "text/plain": [
              "<Figure size 432x288 with 1 Axes>"
            ],
            "image/png": "[encoded data removed]"
          },
          "metadata": {
            "needs_background": "light"
          }
        }
      ]
    },
    {
      "cell_type": "markdown",
      "source": [
        "가장 많은 연도: 2019, 2011    \n",
        "가장 적은 연도: 2014, 2015"
      ],
      "metadata": {
        "id": "4RwnBLimwzb7"
      }
    },
    {
      "cell_type": "code",
      "source": [
        "df.groupby('year').size()"
      ],
      "metadata": {
        "colab": {
          "base_uri": "https://localhost:8080/"
        },
        "id": "N0yrEQsNLAB9",
        "outputId": "6a39a738-1e31-4ad2-b350-fb64f81dcc95"
      },
      "execution_count": 29,
      "outputs": [
        {
          "output_type": "execute_result",
          "data": {
            "text/plain": [
              "year\n",
              "2010.0     389\n",
              "2011.0    3611\n",
              "2012.0    3331\n",
              "2013.0    2880\n",
              "2014.0    2722\n",
              "2015.0    2746\n",
              "2016.0    3168\n",
              "2017.0    3465\n",
              "2018.0    3565\n",
              "2019.0    3676\n",
              "2020.0    2815\n",
              "2021.0    3261\n",
              "dtype: int64"
            ]
          },
          "metadata": {},
          "execution_count": 29
        }
      ]
    },
    {
      "cell_type": "markdown",
      "source": [
        "2010년 데이터 제외"
      ],
      "metadata": {
        "id": "bYGJ2PT1L8xt"
      }
    },
    {
      "cell_type": "code",
      "source": [],
      "metadata": {
        "id": "Yg00zODaL62S"
      },
      "execution_count": null,
      "outputs": []
    },
    {
      "cell_type": "code",
      "source": [
        "df.groupby('region').size()"
      ],
      "metadata": {
        "colab": {
          "base_uri": "https://localhost:8080/"
        },
        "id": "RzMN4XEArSso",
        "outputId": "1fbeb041-90a5-4a68-e4db-6ace7dd1b6ea"
      },
      "execution_count": 17,
      "outputs": [
        {
          "output_type": "execute_result",
          "data": {
            "text/plain": [
              "region\n",
              "1.0     6714\n",
              "2.0     2182\n",
              "3.0     1784\n",
              "4.0     1985\n",
              "5.0     1124\n",
              "6.0     1151\n",
              "7.0      772\n",
              "8.0     3888\n",
              "9.0     5181\n",
              "10.0    1281\n",
              "11.0    1308\n",
              "12.0    1379\n",
              "13.0    1209\n",
              "14.0    1707\n",
              "15.0    1959\n",
              "16.0    1615\n",
              "17.0     390\n",
              "dtype: int64"
            ]
          },
          "metadata": {},
          "execution_count": 17
        }
      ]
    },
    {
      "cell_type": "code",
      "source": [
        "region = df.groupby('region').size()\n",
        "\n",
        "region.plot(color='grey', kind='bar', rot=0)\n",
        "plt.hlines(y=1900, xmin = 0, xmax = 17.5, color='red', linestyle='dotted')\n",
        "plt.title(\"지역별\")\n",
        "plt.tight_layout()"
      ],
      "metadata": {
        "colab": {
          "base_uri": "https://localhost:8080/",
          "height": 297
        },
        "id": "iHfj3N9AmZCu",
        "outputId": "bf1b0a5d-6b91-496d-c8ac-6200f4785859"
      },
      "execution_count": 18,
      "outputs": [
        {
          "output_type": "display_data",
          "data": {
            "text/plain": [
              "<Figure size 432x288 with 1 Axes>"
            ],
            "image/png": "[encoded data removed]"
          },
          "metadata": {
            "needs_background": "light"
          }
        }
      ]
    },
    {
      "cell_type": "markdown",
      "source": [
        "환자 수가 많은 지역: 서울>경기>세종>부산>인천"
      ],
      "metadata": {
        "id": "2hA9I3pupo15"
      }
    },
    {
      "cell_type": "code",
      "source": [
        "print(\"나이 평균\",df['age'].mean())\n",
        "print(\"최소값\",df['age'].min())\n",
        "print(\"최대값\",df['age'].max())"
      ],
      "metadata": {
        "colab": {
          "base_uri": "https://localhost:8080/"
        },
        "id": "0JYmCsnLyLeE",
        "outputId": "ad31337c-6e1a-4c62-cb24-91ed24208b00"
      },
      "execution_count": 24,
      "outputs": [
        {
          "output_type": "stream",
          "name": "stdout",
          "text": [
            "나이 평균 55.918353027028544\n",
            "최소값 30.0\n",
            "최대값 80.0\n"
          ]
        }
      ]
    },
    {
      "cell_type": "markdown",
      "source": [
        "#나이에 따른 신체/질병 관련 특성'"
      ],
      "metadata": {
        "id": "M4CSq8V6KwLH"
      }
    },
    {
      "cell_type": "code",
      "source": [
        "thirty = df.loc[30<=df['age']<40, \"age\"]\n",
        "# fourty = df[40<=df['age']<50]\n",
        "# fifty = df50<=df['age']<60\n",
        "# sixty = 60<=df['age']<70\n",
        "# seventy = 70<=df['age']<=80"
      ],
      "metadata": {
        "colab": {
          "base_uri": "https://localhost:8080/",
          "height": 372
        },
        "id": "DCxb-e6SxSVK",
        "outputId": "55b34593-73ea-4db3-c23b-fec5ba7f3370"
      },
      "execution_count": 41,
      "outputs": [
        {
          "output_type": "error",
          "ename": "ValueError",
          "evalue": "ignored",
          "traceback": [
            "\u001b[0;31m---------------------------------------------------------------------------\u001b[0m",
            "\u001b[0;31mValueError\u001b[0m                                Traceback (most recent call last)",
            "\u001b[0;32m<ipython-input-41-bf39585f2dd4>\u001b[0m in \u001b[0;36m<module>\u001b[0;34m\u001b[0m\n\u001b[0;32m----> 1\u001b[0;31m \u001b[0mthirty\u001b[0m \u001b[0;34m=\u001b[0m \u001b[0mdf\u001b[0m\u001b[0;34m.\u001b[0m\u001b[0mloc\u001b[0m\u001b[0;34m[\u001b[0m\u001b[0;36m30\u001b[0m\u001b[0;34m<=\u001b[0m\u001b[0mdf\u001b[0m\u001b[0;34m[\u001b[0m\u001b[0;34m'age'\u001b[0m\u001b[0;34m]\u001b[0m\u001b[0;34m<\u001b[0m\u001b[0;36m40\u001b[0m\u001b[0;34m,\u001b[0m \u001b[0;34m\"age\"\u001b[0m\u001b[0;34m]\u001b[0m\u001b[0;34m\u001b[0m\u001b[0;34m\u001b[0m\u001b[0m\n\u001b[0m\u001b[1;32m      2\u001b[0m \u001b[0;31m# fourty = df[40<=df['age']<50]\u001b[0m\u001b[0;34m\u001b[0m\u001b[0;34m\u001b[0m\u001b[0;34m\u001b[0m\u001b[0m\n\u001b[1;32m      3\u001b[0m \u001b[0;31m# fifty = df50<=df['age']<60\u001b[0m\u001b[0;34m\u001b[0m\u001b[0;34m\u001b[0m\u001b[0;34m\u001b[0m\u001b[0m\n\u001b[1;32m      4\u001b[0m \u001b[0;31m# sixty = 60<=df['age']<70\u001b[0m\u001b[0;34m\u001b[0m\u001b[0;34m\u001b[0m\u001b[0;34m\u001b[0m\u001b[0m\n\u001b[1;32m      5\u001b[0m \u001b[0;31m# seventy = 70<=df['age']<=80\u001b[0m\u001b[0;34m\u001b[0m\u001b[0;34m\u001b[0m\u001b[0;34m\u001b[0m\u001b[0m\n",
            "\u001b[0;32m/usr/local/lib/python3.8/dist-packages/pandas/core/generic.py\u001b[0m in \u001b[0;36m__nonzero__\u001b[0;34m(self)\u001b[0m\n\u001b[1;32m   1535\u001b[0m     \u001b[0;34m@\u001b[0m\u001b[0mfinal\u001b[0m\u001b[0;34m\u001b[0m\u001b[0;34m\u001b[0m\u001b[0m\n\u001b[1;32m   1536\u001b[0m     \u001b[0;32mdef\u001b[0m \u001b[0m__nonzero__\u001b[0m\u001b[0;34m(\u001b[0m\u001b[0mself\u001b[0m\u001b[0;34m)\u001b[0m\u001b[0;34m:\u001b[0m\u001b[0;34m\u001b[0m\u001b[0;34m\u001b[0m\u001b[0m\n\u001b[0;32m-> 1537\u001b[0;31m         raise ValueError(\n\u001b[0m\u001b[1;32m   1538\u001b[0m             \u001b[0;34mf\"The truth value of a {type(self).__name__} is ambiguous. \"\u001b[0m\u001b[0;34m\u001b[0m\u001b[0;34m\u001b[0m\u001b[0m\n\u001b[1;32m   1539\u001b[0m             \u001b[0;34m\"Use a.empty, a.bool(), a.item(), a.any() or a.all().\"\u001b[0m\u001b[0;34m\u001b[0m\u001b[0;34m\u001b[0m\u001b[0m\n",
            "\u001b[0;31mValueError\u001b[0m: The truth value of a Series is ambiguous. Use a.empty, a.bool(), a.item(), a.any() or a.all()."
          ]
        }
      ]
    },
    {
      "cell_type": "code",
      "source": [
        "df.groupby('region').size()\n",
        "\n",
        "region.plot(color='grey', kind='bar', rot=0)\n",
        "plt.hlines(y=1900, xmin = 0, xmax = 17.5, color='red', linestyle='dotted')\n",
        "plt.title(\"지역별\")\n",
        "plt.tight_layout()"
      ],
      "metadata": {
        "id": "h9U61TBzxAEn"
      },
      "execution_count": null,
      "outputs": []
    },
    {
      "cell_type": "markdown",
      "source": [
        "#성별에 따른 신체/질병 관련 특성"
      ],
      "metadata": {
        "id": "suWS2O6YMWdN"
      }
    },
    {
      "cell_type": "code",
      "source": [
        "sex = df.groupby('sex').size()\n",
        "\n",
        "sex.plot(color='grey', kind='bar', rot=0)\n",
        "#plt.hlines(y=1900, xmin = 0, xmax = 17.5, color='red', linestyle='dotted')\n",
        "plt.title(\"성별\")\n",
        "plt.tight_layout()"
      ],
      "metadata": {
        "colab": {
          "base_uri": "https://localhost:8080/",
          "height": 297
        },
        "id": "HUniE-alMdtx",
        "outputId": "45ed4601-1123-4f97-a323-960787bc28a5"
      },
      "execution_count": 31,
      "outputs": [
        {
          "output_type": "display_data",
          "data": {
            "text/plain": [
              "<Figure size 432x288 with 1 Axes>"
            ],
            "image/png": "[encoded data removed]"
          },
          "metadata": {
            "needs_background": "light"
          }
        }
      ]
    },
    {
      "cell_type": "code",
      "source": [
        "men = df[df['sex']==1]['sex']\n",
        "men"
      ],
      "metadata": {
        "colab": {
          "base_uri": "https://localhost:8080/"
        },
        "id": "jRoTZfXuSUxA",
        "outputId": "bc061aa7-79b3-43b9-f9ca-eb224421707d"
      },
      "execution_count": 48,
      "outputs": [
        {
          "output_type": "execute_result",
          "data": {
            "text/plain": [
              "0        1.0\n",
              "3        1.0\n",
              "5        1.0\n",
              "7        1.0\n",
              "9        1.0\n",
              "        ... \n",
              "35618    1.0\n",
              "35621    1.0\n",
              "35624    1.0\n",
              "35625    1.0\n",
              "35627    1.0\n",
              "Name: sex, Length: 14620, dtype: float64"
            ]
          },
          "metadata": {},
          "execution_count": 48
        }
      ]
    },
    {
      "cell_type": "code",
      "source": [
        "men = df[df['sex']==1]['year']\n",
        "men.value_counts()"
      ],
      "metadata": {
        "colab": {
          "base_uri": "https://localhost:8080/"
        },
        "id": "RTUgRYwLWVtu",
        "outputId": "cca56504-f49c-4047-9337-ea36d83f7ebe"
      },
      "execution_count": 57,
      "outputs": [
        {
          "output_type": "execute_result",
          "data": {
            "text/plain": [
              "2019.0    1527\n",
              "2011.0    1465\n",
              "2018.0    1458\n",
              "2017.0    1451\n",
              "2021.0    1352\n",
              "2012.0    1337\n",
              "2016.0    1258\n",
              "2020.0    1171\n",
              "2013.0    1166\n",
              "2015.0    1131\n",
              "2014.0    1098\n",
              "2010.0     206\n",
              "Name: year, dtype: int64"
            ]
          },
          "metadata": {},
          "execution_count": 57
        }
      ]
    },
    {
      "cell_type": "code",
      "source": [
        "women = df[df['sex']==2]['year']\n",
        "women.value_counts()"
      ],
      "metadata": {
        "colab": {
          "base_uri": "https://localhost:8080/"
        },
        "id": "zIJYmRaXXlwM",
        "outputId": "96a209cd-a517-4cd3-d28f-dcca611cf9b1"
      },
      "execution_count": 56,
      "outputs": [
        {
          "output_type": "execute_result",
          "data": {
            "text/plain": [
              "2019.0    2149\n",
              "2011.0    2146\n",
              "2018.0    2107\n",
              "2017.0    2014\n",
              "2012.0    1994\n",
              "2016.0    1910\n",
              "2021.0    1909\n",
              "2013.0    1714\n",
              "2020.0    1644\n",
              "2014.0    1624\n",
              "2015.0    1615\n",
              "2010.0     183\n",
              "Name: year, dtype: int64"
            ]
          },
          "metadata": {},
          "execution_count": 56
        }
      ]
    },
    {
      "cell_type": "markdown",
      "source": [
        "남성과 여성의 차이:\n",
        "2021년에는 남성들의 발병률이 여성보다 높았음"
      ],
      "metadata": {
        "id": "6VHh395tXuM4"
      }
    },
    {
      "cell_type": "code",
      "source": [
        "men.value_counts().index"
      ],
      "metadata": {
        "colab": {
          "base_uri": "https://localhost:8080/"
        },
        "id": "3fiCdbrKYxN0",
        "outputId": "0b31502c-d195-486c-9996-3fa267f1c2bf"
      },
      "execution_count": 66,
      "outputs": [
        {
          "output_type": "execute_result",
          "data": {
            "text/plain": [
              "Float64Index([2019.0, 2011.0, 2018.0, 2017.0, 2021.0, 2012.0, 2016.0, 2020.0,\n",
              "              2013.0, 2015.0, 2014.0, 2010.0],\n",
              "             dtype='float64')"
            ]
          },
          "metadata": {},
          "execution_count": 66
        }
      ]
    },
    {
      "cell_type": "code",
      "source": [
        "plt.figure(dpi=150)\n",
        "plt.title(\"연도별 남성/여성 환자\")\n",
        "plt.xlabel('year')\n",
        "plt.ylabel('남성')\n",
        "sns.barplot(x=df['year'], y=df['sex'], hue=df['sex'])\n",
        "\n",
        "#plt.hlines(y=50, xmin=0, xmax=1230, color='red', linestyle='dotted')\n",
        "plt.show()\n",
        "\n",
        "# men.value_counts().plot(color='black', kind='bar', rot=0)\n",
        "# women.value_counts().plot(color='pink', kind='bar', rot=0)\n",
        "#plt.hlines(y=1900, xmin = 0, xmax = 17.5, color='red', linestyle='dotted')\n",
        "\n",
        "#plt.tight_layout()"
      ],
      "metadata": {
        "colab": {
          "base_uri": "https://localhost:8080/",
          "height": 598
        },
        "id": "TMnYVtUVR33H",
        "outputId": "06910e6d-2155-43c3-ba71-8ec75ab1e834"
      },
      "execution_count": 72,
      "outputs": [
        {
          "output_type": "display_data",
          "data": {
            "text/plain": [
              "<Figure size 900x600 with 1 Axes>"
            ],
            "image/png": "[encoded data removed]"
          },
          "metadata": {
            "needs_background": "light"
          }
        }
      ]
    },
    {
      "cell_type": "code",
      "source": [
        "x = ['sex']\n",
        "y = [df[df['sex'] == 1.0]['year'].mean(), df[df['sex'] == 2]['year'].mean()]\n",
        "\n",
        "plt.figure(dpi=150)\n",
        "plt.title(\"중식계 vs 휴가자수\")\n",
        "plt.xlabel('year')\n",
        "plt.ylabel('sex')\n",
        "plt.bar(x, y)\n",
        "plt.show()"
      ],
      "metadata": {
        "id": "1JbmXiKWn-bb"
      },
      "execution_count": null,
      "outputs": []
    },
    {
      "cell_type": "code",
      "source": [
        "features = ['고콜레스테롤혈증', '고중성지방혈증', 'B형간염', '빈혈', '뇌졸중', '협심증또는심근경색증', '천식',\n",
        "       '아토피피부염', '골관절염', '우울증']\n",
        "X = train[features]\n",
        "y = train['year']"
      ],
      "metadata": {
        "id": "MThiufl7b0kg"
      },
      "execution_count": 7,
      "outputs": []
    },
    {
      "cell_type": "code",
      "source": [
        "from sklearn.tree import DecisionTreeRegressor\n",
        "\n",
        "year_model = DecisionTreeRegressor()\n",
        "year_model.fit(X,y)"
      ],
      "metadata": {
        "id": "ovZY3yDQiTs5"
      },
      "execution_count": null,
      "outputs": []
    }
  ]
}