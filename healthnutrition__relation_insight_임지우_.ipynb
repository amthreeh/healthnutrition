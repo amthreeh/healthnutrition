{
  "nbformat": 4,
  "nbformat_minor": 0,
  "metadata": {
    "colab": {
      "provenance": [],
      "mount_file_id": "1MfcnRVJRfkZqjJd_x20dcnQjnQWrQGSK",
      "authorship_tag": "ABX9TyMO+Js3oyDuhflKJOmZE6lg",
      "include_colab_link": true
    },
    "kernelspec": {
      "name": "python3",
      "display_name": "Python 3"
    },
    "language_info": {
      "name": "python"
    }
  },
  "cells": [
    {
      "cell_type": "markdown",
      "metadata": {
        "id": "view-in-github",
        "colab_type": "text"
      },
      "source": [
        "<a href=\"https://colab.research.google.com/github/amthreeh/healthnutrition/blob/main/healthnutrition__relation_insight_%EC%9E%84%EC%A7%80%EC%9A%B0_.ipynb\" target=\"_parent\"><img src=\"https://colab.research.google.com/assets/colab-badge.svg\" alt=\"Open In Colab\"/></a>"
      ]
    },
    {
      "cell_type": "code",
      "source": [
        "from google.colab import drive\n",
        "drive.mount('/content/drive')"
      ],
      "metadata": {
        "colab": {
          "base_uri": "https://localhost:8080/"
        },
        "id": "mHTipIY7hKXd",
        "outputId": "ae837d3d-3788-40e7-f3ad-e276bdf39355"
      },
      "execution_count": 1,
      "outputs": [
        {
          "output_type": "stream",
          "name": "stdout",
          "text": [
            "Drive already mounted at /content/drive; to attempt to forcibly remount, call drive.mount(\"/content/drive\", force_remount=True).\n"
          ]
        }
      ]
    },
    {
      "cell_type": "code",
      "source": [
        "import pandas as pd\n",
        "import numpy as np\n",
        "import seaborn as sns\n",
        "import matplotlib as mpl \n",
        "import matplotlib.pyplot as plt\n",
        "%matplotlib inline"
      ],
      "metadata": {
        "id": "4z_r1FtjYilt"
      },
      "execution_count": 2,
      "outputs": []
    },
    {
      "cell_type": "code",
      "source": [
        "import matplotlib.font_manager as fm  \n",
        "\n",
        "!apt-get update -qq\n",
        "!apt-get install fonts-nanum* -qq\n",
        "\n",
        "path = '/usr/share/fonts/truetype/nanum/NanumBarunGothic.ttf' \n",
        "font_name = fm.FontProperties(fname=path, size=10).get_name()\n",
        "print(font_name)\n",
        "plt.rc('font', family=font_name)\n",
        "\n",
        "fm._rebuild()\n",
        "mpl.rcParams['axes.unicode_minus'] = False"
      ],
      "metadata": {
        "colab": {
          "base_uri": "https://localhost:8080/"
        },
        "id": "cr0u80ATeNIm",
        "outputId": "877bbc40-4e67-4522-e011-251cdb4728e4"
      },
      "execution_count": 3,
      "outputs": [
        {
          "output_type": "stream",
          "name": "stdout",
          "text": [
            "NanumBarunGothic\n"
          ]
        }
      ]
    },
    {
      "cell_type": "code",
      "source": [
        "%cd /content/drive/MyDrive/nationalhealth-main"
      ],
      "metadata": {
        "colab": {
          "base_uri": "https://localhost:8080/"
        },
        "id": "39PNeeWvYnrN",
        "outputId": "92a5caf3-d066-4e7f-cd0c-b88d45e51eed"
      },
      "execution_count": 4,
      "outputs": [
        {
          "output_type": "stream",
          "name": "stdout",
          "text": [
            "/content/drive/MyDrive/nationalhealth-main\n"
          ]
        }
      ]
    },
    {
      "cell_type": "code",
      "source": [
        "df = pd.read_csv('/content/drive/MyDrive/nationalhealth-main/nationalhealth_2010to2021.csv')\n",
        "df.head()"
      ],
      "metadata": {
        "colab": {
          "base_uri": "https://localhost:8080/",
          "height": 297
        },
        "id": "S4UNV1fMYlwl",
        "outputId": "1a9e9cb7-73ed-4f86-f107-ff4bfe8795b7"
      },
      "execution_count": 5,
      "outputs": [
        {
          "output_type": "execute_result",
          "data": {
            "text/plain": [
              "              ID       ID_fam    year  region  town_t  sex   age  incm  \\\n",
              "0  b'A308780901'  b'A3087809'  2010.0     1.0     1.0  1.0  74.0   3.0   \n",
              "1  b'A309099802'  b'A3090998'  2010.0     1.0     1.0  2.0  71.0   2.0   \n",
              "2  b'A309460901'  b'A3094609'  2010.0     1.0     1.0  2.0  61.0   3.0   \n",
              "3  b'A309460902'  b'A3094609'  2010.0     1.0     1.0  1.0  32.0   2.0   \n",
              "4  b'A310439801'  b'A3104398'  2010.0     1.0     1.0  2.0  63.0   4.0   \n",
              "\n",
              "   ho_incm  incm5  ...  고콜레스테롤혈증  고중성지방혈증  B형간염   빈혈  뇌졸중  협심증또는심근경색증   천식  \\\n",
              "0      2.0    4.0  ...       0.0      1.0   0.0  0.0 -1.0        -1.0  0.0   \n",
              "1      1.0    2.0  ...       0.0      0.0   0.0  0.0 -1.0        -1.0 -1.0   \n",
              "2      2.0    4.0  ...       0.0      0.0   0.0  0.0 -1.0        -1.0  1.0   \n",
              "3      2.0    2.0  ...       0.0      1.0   0.0  0.0 -1.0        -1.0 -1.0   \n",
              "4      4.0    5.0  ...       0.0      0.0   0.0  0.0 -1.0        -1.0 -1.0   \n",
              "\n",
              "   아토피피부염  골관절염  우울증  \n",
              "0    -1.0  -1.0 -1.0  \n",
              "1    -1.0  -1.0 -1.0  \n",
              "2    -1.0   1.0 -1.0  \n",
              "3    -1.0  -1.0  1.0  \n",
              "4    -1.0   1.0 -1.0  \n",
              "\n",
              "[5 rows x 122 columns]"
            ],
            "text/html": [
              "\n",
              "  <div id=\"df-e3564486-1fda-4bda-a59c-9eacb3583c17\">\n",
              "    <div class=\"colab-df-container\">\n",
              "      <div>\n",
              "<style scoped>\n",
              "    .dataframe tbody tr th:only-of-type {\n",
              "        vertical-align: middle;\n",
              "    }\n",
              "\n",
              "    .dataframe tbody tr th {\n",
              "        vertical-align: top;\n",
              "    }\n",
              "\n",
              "    .dataframe thead th {\n",
              "        text-align: right;\n",
              "    }\n",
              "</style>\n",
              "<table border=\"1\" class=\"dataframe\">\n",
              "  <thead>\n",
              "    <tr style=\"text-align: right;\">\n",
              "      <th></th>\n",
              "      <th>ID</th>\n",
              "      <th>ID_fam</th>\n",
              "      <th>year</th>\n",
              "      <th>region</th>\n",
              "      <th>town_t</th>\n",
              "      <th>sex</th>\n",
              "      <th>age</th>\n",
              "      <th>incm</th>\n",
              "      <th>ho_incm</th>\n",
              "      <th>incm5</th>\n",
              "      <th>...</th>\n",
              "      <th>고콜레스테롤혈증</th>\n",
              "      <th>고중성지방혈증</th>\n",
              "      <th>B형간염</th>\n",
              "      <th>빈혈</th>\n",
              "      <th>뇌졸중</th>\n",
              "      <th>협심증또는심근경색증</th>\n",
              "      <th>천식</th>\n",
              "      <th>아토피피부염</th>\n",
              "      <th>골관절염</th>\n",
              "      <th>우울증</th>\n",
              "    </tr>\n",
              "  </thead>\n",
              "  <tbody>\n",
              "    <tr>\n",
              "      <th>0</th>\n",
              "      <td>b'A308780901'</td>\n",
              "      <td>b'A3087809'</td>\n",
              "      <td>2010.0</td>\n",
              "      <td>1.0</td>\n",
              "      <td>1.0</td>\n",
              "      <td>1.0</td>\n",
              "      <td>74.0</td>\n",
              "      <td>3.0</td>\n",
              "      <td>2.0</td>\n",
              "      <td>4.0</td>\n",
              "      <td>...</td>\n",
              "      <td>0.0</td>\n",
              "      <td>1.0</td>\n",
              "      <td>0.0</td>\n",
              "      <td>0.0</td>\n",
              "      <td>-1.0</td>\n",
              "      <td>-1.0</td>\n",
              "      <td>0.0</td>\n",
              "      <td>-1.0</td>\n",
              "      <td>-1.0</td>\n",
              "      <td>-1.0</td>\n",
              "    </tr>\n",
              "    <tr>\n",
              "      <th>1</th>\n",
              "      <td>b'A309099802'</td>\n",
              "      <td>b'A3090998'</td>\n",
              "      <td>2010.0</td>\n",
              "      <td>1.0</td>\n",
              "      <td>1.0</td>\n",
              "      <td>2.0</td>\n",
              "      <td>71.0</td>\n",
              "      <td>2.0</td>\n",
              "      <td>1.0</td>\n",
              "      <td>2.0</td>\n",
              "      <td>...</td>\n",
              "      <td>0.0</td>\n",
              "      <td>0.0</td>\n",
              "      <td>0.0</td>\n",
              "      <td>0.0</td>\n",
              "      <td>-1.0</td>\n",
              "      <td>-1.0</td>\n",
              "      <td>-1.0</td>\n",
              "      <td>-1.0</td>\n",
              "      <td>-1.0</td>\n",
              "      <td>-1.0</td>\n",
              "    </tr>\n",
              "    <tr>\n",
              "      <th>2</th>\n",
              "      <td>b'A309460901'</td>\n",
              "      <td>b'A3094609'</td>\n",
              "      <td>2010.0</td>\n",
              "      <td>1.0</td>\n",
              "      <td>1.0</td>\n",
              "      <td>2.0</td>\n",
              "      <td>61.0</td>\n",
              "      <td>3.0</td>\n",
              "      <td>2.0</td>\n",
              "      <td>4.0</td>\n",
              "      <td>...</td>\n",
              "      <td>0.0</td>\n",
              "      <td>0.0</td>\n",
              "      <td>0.0</td>\n",
              "      <td>0.0</td>\n",
              "      <td>-1.0</td>\n",
              "      <td>-1.0</td>\n",
              "      <td>1.0</td>\n",
              "      <td>-1.0</td>\n",
              "      <td>1.0</td>\n",
              "      <td>-1.0</td>\n",
              "    </tr>\n",
              "    <tr>\n",
              "      <th>3</th>\n",
              "      <td>b'A309460902'</td>\n",
              "      <td>b'A3094609'</td>\n",
              "      <td>2010.0</td>\n",
              "      <td>1.0</td>\n",
              "      <td>1.0</td>\n",
              "      <td>1.0</td>\n",
              "      <td>32.0</td>\n",
              "      <td>2.0</td>\n",
              "      <td>2.0</td>\n",
              "      <td>2.0</td>\n",
              "      <td>...</td>\n",
              "      <td>0.0</td>\n",
              "      <td>1.0</td>\n",
              "      <td>0.0</td>\n",
              "      <td>0.0</td>\n",
              "      <td>-1.0</td>\n",
              "      <td>-1.0</td>\n",
              "      <td>-1.0</td>\n",
              "      <td>-1.0</td>\n",
              "      <td>-1.0</td>\n",
              "      <td>1.0</td>\n",
              "    </tr>\n",
              "    <tr>\n",
              "      <th>4</th>\n",
              "      <td>b'A310439801'</td>\n",
              "      <td>b'A3104398'</td>\n",
              "      <td>2010.0</td>\n",
              "      <td>1.0</td>\n",
              "      <td>1.0</td>\n",
              "      <td>2.0</td>\n",
              "      <td>63.0</td>\n",
              "      <td>4.0</td>\n",
              "      <td>4.0</td>\n",
              "      <td>5.0</td>\n",
              "      <td>...</td>\n",
              "      <td>0.0</td>\n",
              "      <td>0.0</td>\n",
              "      <td>0.0</td>\n",
              "      <td>0.0</td>\n",
              "      <td>-1.0</td>\n",
              "      <td>-1.0</td>\n",
              "      <td>-1.0</td>\n",
              "      <td>-1.0</td>\n",
              "      <td>1.0</td>\n",
              "      <td>-1.0</td>\n",
              "    </tr>\n",
              "  </tbody>\n",
              "</table>\n",
              "<p>5 rows × 122 columns</p>\n",
              "</div>\n",
              "      <button class=\"colab-df-convert\" onclick=\"convertToInteractive('df-e3564486-1fda-4bda-a59c-9eacb3583c17')\"\n",
              "              title=\"Convert this dataframe to an interactive table.\"\n",
              "              style=\"display:none;\">\n",
              "        \n",
              "  <svg xmlns=\"http://www.w3.org/2000/svg\" height=\"24px\"viewBox=\"0 0 24 24\"\n",
              "       width=\"24px\">\n",
              "    <path d=\"M0 0h24v24H0V0z\" fill=\"none\"/>\n",
              "    <path d=\"M18.56 5.44l.94 2.06.94-2.06 2.06-.94-2.06-.94-.94-2.06-.94 2.06-2.06.94zm-11 1L8.5 8.5l.94-2.06 2.06-.94-2.06-.94L8.5 2.5l-.94 2.06-2.06.94zm10 10l.94 2.06.94-2.06 2.06-.94-2.06-.94-.94-2.06-.94 2.06-2.06.94z\"/><path d=\"M17.41 7.96l-1.37-1.37c-.4-.4-.92-.59-1.43-.59-.52 0-1.04.2-1.43.59L10.3 9.45l-7.72 7.72c-.78.78-.78 2.05 0 2.83L4 21.41c.39.39.9.59 1.41.59.51 0 1.02-.2 1.41-.59l7.78-7.78 2.81-2.81c.8-.78.8-2.07 0-2.86zM5.41 20L4 18.59l7.72-7.72 1.47 1.35L5.41 20z\"/>\n",
              "  </svg>\n",
              "      </button>\n",
              "      \n",
              "  <style>\n",
              "    .colab-df-container {\n",
              "      display:flex;\n",
              "      flex-wrap:wrap;\n",
              "      gap: 12px;\n",
              "    }\n",
              "\n",
              "    .colab-df-convert {\n",
              "      background-color: #E8F0FE;\n",
              "      border: none;\n",
              "      border-radius: 50%;\n",
              "      cursor: pointer;\n",
              "      display: none;\n",
              "      fill: #1967D2;\n",
              "      height: 32px;\n",
              "      padding: 0 0 0 0;\n",
              "      width: 32px;\n",
              "    }\n",
              "\n",
              "    .colab-df-convert:hover {\n",
              "      background-color: #E2EBFA;\n",
              "      box-shadow: 0px 1px 2px rgba(60, 64, 67, 0.3), 0px 1px 3px 1px rgba(60, 64, 67, 0.15);\n",
              "      fill: #174EA6;\n",
              "    }\n",
              "\n",
              "    [theme=dark] .colab-df-convert {\n",
              "      background-color: #3B4455;\n",
              "      fill: #D2E3FC;\n",
              "    }\n",
              "\n",
              "    [theme=dark] .colab-df-convert:hover {\n",
              "      background-color: #434B5C;\n",
              "      box-shadow: 0px 1px 3px 1px rgba(0, 0, 0, 0.15);\n",
              "      filter: drop-shadow(0px 1px 2px rgba(0, 0, 0, 0.3));\n",
              "      fill: #FFFFFF;\n",
              "    }\n",
              "  </style>\n",
              "\n",
              "      <script>\n",
              "        const buttonEl =\n",
              "          document.querySelector('#df-e3564486-1fda-4bda-a59c-9eacb3583c17 button.colab-df-convert');\n",
              "        buttonEl.style.display =\n",
              "          google.colab.kernel.accessAllowed ? 'block' : 'none';\n",
              "\n",
              "        async function convertToInteractive(key) {\n",
              "          const element = document.querySelector('#df-e3564486-1fda-4bda-a59c-9eacb3583c17');\n",
              "          const dataTable =\n",
              "            await google.colab.kernel.invokeFunction('convertToInteractive',\n",
              "                                                     [key], {});\n",
              "          if (!dataTable) return;\n",
              "\n",
              "          const docLinkHtml = 'Like what you see? Visit the ' +\n",
              "            '<a target=\"_blank\" href=https://colab.research.google.com/notebooks/data_table.ipynb>data table notebook</a>'\n",
              "            + ' to learn more about interactive tables.';\n",
              "          element.innerHTML = '';\n",
              "          dataTable['output_type'] = 'display_data';\n",
              "          await google.colab.output.renderOutput(dataTable, element);\n",
              "          const docLink = document.createElement('div');\n",
              "          docLink.innerHTML = docLinkHtml;\n",
              "          element.appendChild(docLink);\n",
              "        }\n",
              "      </script>\n",
              "    </div>\n",
              "  </div>\n",
              "  "
            ]
          },
          "metadata": {},
          "execution_count": 5
        }
      ]
    },
    {
      "cell_type": "code",
      "source": [
        "pd.set_option('display.max_columns', None)\n",
        "pd.set_option('display.max_rows', None)"
      ],
      "metadata": {
        "id": "Qw3WxRG-uaAe"
      },
      "execution_count": 6,
      "outputs": []
    },
    {
      "cell_type": "code",
      "source": [
        "df.columns.tolist()"
      ],
      "metadata": {
        "colab": {
          "base_uri": "https://localhost:8080/"
        },
        "id": "AyzuJQ7pubEh",
        "outputId": "a45716f8-8d8b-4ece-ae82-e1f9ffca0fcd"
      },
      "execution_count": 7,
      "outputs": [
        {
          "output_type": "execute_result",
          "data": {
            "text/plain": [
              "['ID',\n",
              " 'ID_fam',\n",
              " 'year',\n",
              " 'region',\n",
              " 'town_t',\n",
              " 'sex',\n",
              " 'age',\n",
              " 'incm',\n",
              " 'ho_incm',\n",
              " 'incm5',\n",
              " 'ho_incm5',\n",
              " 'edu',\n",
              " 'occp',\n",
              " 'cfam',\n",
              " 'genertn',\n",
              " 'allownc',\n",
              " 'marri_1',\n",
              " 'marri_2',\n",
              " 'fam_rela',\n",
              " 'tins',\n",
              " 'D_1_1',\n",
              " 'educ',\n",
              " 'EC1_1',\n",
              " 'EC_wht_23',\n",
              " 'EC_wht_5',\n",
              " 'EC_pedu_1',\n",
              " 'EC_pedu_2',\n",
              " 'BD1_11',\n",
              " 'BD2_1',\n",
              " 'BD2_31',\n",
              " 'dr_month',\n",
              " 'BP6_10',\n",
              " 'BP7',\n",
              " 'mh_stress',\n",
              " 'BS3_1',\n",
              " 'BE3_31',\n",
              " 'BE5_1',\n",
              " 'LW_mt',\n",
              " 'LW_mt_a1',\n",
              " 'LW_br',\n",
              " 'HE_fst',\n",
              " 'HE_HPdr',\n",
              " 'HE_DMdr',\n",
              " 'HE_mens',\n",
              " 'HE_prg',\n",
              " 'HE_HPfh1',\n",
              " 'HE_HPfh2',\n",
              " 'HE_HPfh3',\n",
              " 'HE_HLfh1',\n",
              " 'HE_HLfh2',\n",
              " 'HE_HLfh3',\n",
              " 'HE_IHDfh1',\n",
              " 'HE_IHDfh2',\n",
              " 'HE_IHDfh3',\n",
              " 'HE_STRfh1',\n",
              " 'HE_STRfh2',\n",
              " 'HE_STRfh3',\n",
              " 'HE_DMfh1',\n",
              " 'HE_DMfh2',\n",
              " 'HE_DMfh3',\n",
              " 'HE_rPLS',\n",
              " 'HE_sbp',\n",
              " 'HE_dbp',\n",
              " 'HE_ht',\n",
              " 'HE_wt',\n",
              " 'HE_wc',\n",
              " 'HE_BMI',\n",
              " 'HE_glu',\n",
              " 'HE_HbA1c',\n",
              " 'HE_chol',\n",
              " 'HE_HDL_st2',\n",
              " 'HE_TG',\n",
              " 'HE_ast',\n",
              " 'HE_alt',\n",
              " 'HE_hepaB',\n",
              " 'HE_HB',\n",
              " 'HE_HCT',\n",
              " 'HE_BUN',\n",
              " 'HE_crea',\n",
              " 'HE_WBC',\n",
              " 'HE_RBC',\n",
              " 'HE_Bplt',\n",
              " 'HE_Uph',\n",
              " 'HE_Unitr',\n",
              " 'HE_Usg',\n",
              " 'HE_Upro',\n",
              " 'HE_Uglu',\n",
              " 'HE_Uket',\n",
              " 'HE_Ubil',\n",
              " 'HE_Ubld',\n",
              " 'HE_Uro',\n",
              " 'HE_Ucrea',\n",
              " 'N_INTK',\n",
              " 'N_EN',\n",
              " 'N_WATER',\n",
              " 'N_PROT',\n",
              " 'N_FAT',\n",
              " 'N_CHO',\n",
              " 'N_CA',\n",
              " 'N_PHOS',\n",
              " 'N_FE',\n",
              " 'N_NA',\n",
              " 'N_K',\n",
              " 'N_CAROT',\n",
              " 'N_RETIN',\n",
              " 'N_B1',\n",
              " 'N_B2',\n",
              " 'N_NIAC',\n",
              " 'N_VITC',\n",
              " '비만',\n",
              " '고혈압',\n",
              " '당뇨병',\n",
              " '고콜레스테롤혈증',\n",
              " '고중성지방혈증',\n",
              " 'B형간염',\n",
              " '빈혈',\n",
              " '뇌졸중',\n",
              " '협심증또는심근경색증',\n",
              " '천식',\n",
              " '아토피피부염',\n",
              " '골관절염',\n",
              " '우울증']"
            ]
          },
          "metadata": {},
          "execution_count": 7
        }
      ]
    },
    {
      "cell_type": "code",
      "source": [
        "df.info()\n",
        "df.isnull().sum()"
      ],
      "metadata": {
        "colab": {
          "base_uri": "https://localhost:8080/"
        },
        "id": "rSEBPvsZYqsk",
        "outputId": "9842109f-b83a-4f2c-fb9d-fe52da8b2d95"
      },
      "execution_count": 8,
      "outputs": [
        {
          "output_type": "stream",
          "name": "stdout",
          "text": [
            "<class 'pandas.core.frame.DataFrame'>\n",
            "RangeIndex: 35629 entries, 0 to 35628\n",
            "Columns: 122 entries, ID to 우울증\n",
            "dtypes: float64(120), object(2)\n",
            "memory usage: 33.2+ MB\n"
          ]
        },
        {
          "output_type": "execute_result",
          "data": {
            "text/plain": [
              "ID            0\n",
              "ID_fam        0\n",
              "year          0\n",
              "region        0\n",
              "town_t        0\n",
              "sex           0\n",
              "age           0\n",
              "incm          0\n",
              "ho_incm       0\n",
              "incm5         0\n",
              "ho_incm5      0\n",
              "edu           0\n",
              "occp          0\n",
              "cfam          0\n",
              "genertn       0\n",
              "allownc       0\n",
              "marri_1       0\n",
              "marri_2       0\n",
              "fam_rela      0\n",
              "tins          0\n",
              "D_1_1         0\n",
              "educ          0\n",
              "EC1_1         0\n",
              "EC_wht_23     0\n",
              "EC_wht_5      0\n",
              "EC_pedu_1     0\n",
              "EC_pedu_2     0\n",
              "BD1_11        0\n",
              "BD2_1         0\n",
              "BD2_31        0\n",
              "dr_month      0\n",
              "BP6_10        0\n",
              "BP7           0\n",
              "mh_stress     0\n",
              "BS3_1         0\n",
              "BE3_31        0\n",
              "BE5_1         0\n",
              "LW_mt         0\n",
              "LW_mt_a1      0\n",
              "LW_br         0\n",
              "HE_fst        0\n",
              "HE_HPdr       0\n",
              "HE_DMdr       0\n",
              "HE_mens       0\n",
              "HE_prg        0\n",
              "HE_HPfh1      0\n",
              "HE_HPfh2      0\n",
              "HE_HPfh3      0\n",
              "HE_HLfh1      0\n",
              "HE_HLfh2      0\n",
              "HE_HLfh3      0\n",
              "HE_IHDfh1     0\n",
              "HE_IHDfh2     0\n",
              "HE_IHDfh3     0\n",
              "HE_STRfh1     0\n",
              "HE_STRfh2     0\n",
              "HE_STRfh3     0\n",
              "HE_DMfh1      0\n",
              "HE_DMfh2      0\n",
              "HE_DMfh3      0\n",
              "HE_rPLS       0\n",
              "HE_sbp        0\n",
              "HE_dbp        0\n",
              "HE_ht         0\n",
              "HE_wt         0\n",
              "HE_wc         0\n",
              "HE_BMI        0\n",
              "HE_glu        0\n",
              "HE_HbA1c      0\n",
              "HE_chol       0\n",
              "HE_HDL_st2    0\n",
              "HE_TG         0\n",
              "HE_ast        0\n",
              "HE_alt        0\n",
              "HE_hepaB      0\n",
              "HE_HB         0\n",
              "HE_HCT        0\n",
              "HE_BUN        0\n",
              "HE_crea       0\n",
              "HE_WBC        0\n",
              "HE_RBC        0\n",
              "HE_Bplt       0\n",
              "HE_Uph        0\n",
              "HE_Unitr      0\n",
              "HE_Usg        0\n",
              "HE_Upro       0\n",
              "HE_Uglu       0\n",
              "HE_Uket       0\n",
              "HE_Ubil       0\n",
              "HE_Ubld       0\n",
              "HE_Uro        0\n",
              "HE_Ucrea      0\n",
              "N_INTK        0\n",
              "N_EN          0\n",
              "N_WATER       0\n",
              "N_PROT        0\n",
              "N_FAT         0\n",
              "N_CHO         0\n",
              "N_CA          0\n",
              "N_PHOS        0\n",
              "N_FE          0\n",
              "N_NA          0\n",
              "N_K           0\n",
              "N_CAROT       0\n",
              "N_RETIN       0\n",
              "N_B1          0\n",
              "N_B2          0\n",
              "N_NIAC        0\n",
              "N_VITC        0\n",
              "비만            0\n",
              "고혈압           0\n",
              "당뇨병           0\n",
              "고콜레스테롤혈증      0\n",
              "고중성지방혈증       0\n",
              "B형간염          0\n",
              "빈혈            0\n",
              "뇌졸중           0\n",
              "협심증또는심근경색증    0\n",
              "천식            0\n",
              "아토피피부염        0\n",
              "골관절염          0\n",
              "우울증           0\n",
              "dtype: int64"
            ]
          },
          "metadata": {},
          "execution_count": 8
        }
      ]
    },
    {
      "cell_type": "code",
      "source": [
        "df.columns"
      ],
      "metadata": {
        "colab": {
          "base_uri": "https://localhost:8080/"
        },
        "id": "5YgCE-TciKN_",
        "outputId": "08d34b15-8cf6-4223-a629-ec15e087ab19"
      },
      "execution_count": 9,
      "outputs": [
        {
          "output_type": "execute_result",
          "data": {
            "text/plain": [
              "Index(['ID', 'ID_fam', 'year', 'region', 'town_t', 'sex', 'age', 'incm',\n",
              "       'ho_incm', 'incm5',\n",
              "       ...\n",
              "       '고콜레스테롤혈증', '고중성지방혈증', 'B형간염', '빈혈', '뇌졸중', '협심증또는심근경색증', '천식',\n",
              "       '아토피피부염', '골관절염', '우울증'],\n",
              "      dtype='object', length=122)"
            ]
          },
          "metadata": {},
          "execution_count": 9
        }
      ]
    },
    {
      "cell_type": "markdown",
      "source": [
        "# 변수정리"
      ],
      "metadata": {
        "id": "oNjHMSDR3mf5"
      }
    },
    {
      "cell_type": "code",
      "source": [
        "# #EC 직업과 관련된 문항\n",
        "# job_check = df['EC1_1','EC_wht_23','EC_wht_5','EC_pedu_1','EC_pedu_2']\n",
        "# #BD 음주와 흡연과 관련된 \n",
        "# drunk_check = df['BD1_11','BD2_1','BD2_31','dr_month','BS3_1']\n",
        "# #BP 정신적 스트레스와 관련된 문항\n",
        "# mental_stress = df['BP6_10','BP7','mh_stress']\n",
        "# #BE 신체적 활동(운동)과 관련된 문항\n",
        "# exercise = df['BE3_31','BE5_1']\n",
        "# #LW 출산 여부와 관련된 문항\n",
        "# childbirth_check = df['LW_mt','LW_mt_a1','LW_br']\n",
        "# # # 개인아이디 가구아이디 조사연도 17개시도 동/읍면구분 성별 나이 소득분위 교육수준 \n",
        "# # # incm과 관련된문항 소득분위\n",
        "# # income_check = \n",
        "# # # HE와 관련된문항  #건강검진부분\n",
        "# # phisical_check = \n",
        "# # #N과관련된 문항 #1일 영양소섭취와 관련된문항\n",
        "# # nutrient_intake = \n",
        "# # #EC와 경제수준과 관련된문항\n"
      ],
      "metadata": {
        "id": "w3zNSG9b1Ce7"
      },
      "execution_count": 10,
      "outputs": []
    },
    {
      "cell_type": "markdown",
      "source": [
        "##'연도 변화에 따른 신체/질병 특성의 변화'"
      ],
      "metadata": {
        "id": "Gw_426BmK5js"
      }
    },
    {
      "cell_type": "code",
      "source": [
        "s = df.groupby('year').size()\n",
        "\n",
        "s.plot(color='grey', kind='bar', rot=0)\n",
        "plt.title(\"연도별\")\n",
        "plt.tight_layout()"
      ],
      "metadata": {
        "colab": {
          "base_uri": "https://localhost:8080/",
          "height": 297
        },
        "id": "CsO1Mwg0Y0ZB",
        "outputId": "dbf2c3ed-e456-444a-cdff-f66db1839217"
      },
      "execution_count": 11,
      "outputs": [
        {
          "output_type": "display_data",
          "data": {
            "text/plain": [
              "<Figure size 432x288 with 1 Axes>"
            ],
            "image/png": "[encoded data removed]"
          },
          "metadata": {
            "needs_background": "light"
          }
        }
      ]
    },
    {
      "cell_type": "markdown",
      "source": [
        "가장 많은 연도: 2019, 2011    \n",
        "가장 적은 연도: 2014, 2015"
      ],
      "metadata": {
        "id": "4RwnBLimwzb7"
      }
    },
    {
      "cell_type": "code",
      "source": [
        "df.groupby('year').size()"
      ],
      "metadata": {
        "colab": {
          "base_uri": "https://localhost:8080/"
        },
        "id": "N0yrEQsNLAB9",
        "outputId": "ee2bc312-22a3-421f-87ab-6b02a12fefc1"
      },
      "execution_count": 12,
      "outputs": [
        {
          "output_type": "execute_result",
          "data": {
            "text/plain": [
              "year\n",
              "2010.0     389\n",
              "2011.0    3611\n",
              "2012.0    3331\n",
              "2013.0    2880\n",
              "2014.0    2722\n",
              "2015.0    2746\n",
              "2016.0    3168\n",
              "2017.0    3465\n",
              "2018.0    3565\n",
              "2019.0    3676\n",
              "2020.0    2815\n",
              "2021.0    3261\n",
              "dtype: int64"
            ]
          },
          "metadata": {},
          "execution_count": 12
        }
      ]
    },
    {
      "cell_type": "markdown",
      "source": [
        "2010년 데이터 제외"
      ],
      "metadata": {
        "id": "bYGJ2PT1L8xt"
      }
    },
    {
      "cell_type": "markdown",
      "source": [
        "#지역별 질병/신체 특징"
      ],
      "metadata": {
        "id": "l0mffeIiVu4C"
      }
    },
    {
      "cell_type": "code",
      "source": [
        "df.groupby('region').size()"
      ],
      "metadata": {
        "colab": {
          "base_uri": "https://localhost:8080/"
        },
        "id": "RzMN4XEArSso",
        "outputId": "d5d9f1da-f926-482b-c9c7-7f14d4888a5d"
      },
      "execution_count": 13,
      "outputs": [
        {
          "output_type": "execute_result",
          "data": {
            "text/plain": [
              "region\n",
              "1.0     6714\n",
              "2.0     2182\n",
              "3.0     1784\n",
              "4.0     1985\n",
              "5.0     1124\n",
              "6.0     1151\n",
              "7.0      772\n",
              "8.0     3888\n",
              "9.0     5181\n",
              "10.0    1281\n",
              "11.0    1308\n",
              "12.0    1379\n",
              "13.0    1209\n",
              "14.0    1707\n",
              "15.0    1959\n",
              "16.0    1615\n",
              "17.0     390\n",
              "dtype: int64"
            ]
          },
          "metadata": {},
          "execution_count": 13
        }
      ]
    },
    {
      "cell_type": "code",
      "source": [
        "region = df.groupby('region').size()\n",
        "\n",
        "region.plot(color='grey', kind='bar', rot=0)\n",
        "plt.hlines(y=1900, xmin = 0, xmax = 17.5, color='red', linestyle='dotted')\n",
        "plt.title(\"지역별\")\n",
        "plt.tight_layout()"
      ],
      "metadata": {
        "colab": {
          "base_uri": "https://localhost:8080/",
          "height": 297
        },
        "id": "iHfj3N9AmZCu",
        "outputId": "72cd7ec5-dc94-4505-84d0-a0de5189c93e"
      },
      "execution_count": 14,
      "outputs": [
        {
          "output_type": "display_data",
          "data": {
            "text/plain": [
              "<Figure size 432x288 with 1 Axes>"
            ],
            "image/png": "[encoded data removed]"
          },
          "metadata": {
            "needs_background": "light"
          }
        }
      ]
    },
    {
      "cell_type": "markdown",
      "source": [
        "환자 수가 많은 지역: 서울>경기>세종>부산>인천"
      ],
      "metadata": {
        "id": "2hA9I3pupo15"
      }
    },
    {
      "cell_type": "code",
      "source": [
        "df[df['region']==9]['occp'].value_counts() #경기도 직업 유형"
      ],
      "metadata": {
        "colab": {
          "base_uri": "https://localhost:8080/"
        },
        "id": "r15oIkmLtCpa",
        "outputId": "6a5c45f4-7009-42dc-ce52-c68b8c3199ed"
      },
      "execution_count": 15,
      "outputs": [
        {
          "output_type": "execute_result",
          "data": {
            "text/plain": [
              "7.0    2119\n",
              "1.0     692\n",
              "3.0     589\n",
              "5.0     561\n",
              "2.0     556\n",
              "6.0     485\n",
              "4.0     179\n",
              "Name: occp, dtype: int64"
            ]
          },
          "metadata": {},
          "execution_count": 15
        }
      ]
    },
    {
      "cell_type": "markdown",
      "source": [
        "서울 : 무직 > 관리자 > 사무직 > 서비스업 "
      ],
      "metadata": {
        "id": "Is9ylZvvV-eN"
      }
    },
    {
      "cell_type": "markdown",
      "source": [
        "#나이에 따른 신체/질병 관련 특성'"
      ],
      "metadata": {
        "id": "M4CSq8V6KwLH"
      }
    },
    {
      "cell_type": "markdown",
      "source": [
        "연령: 30대부터 80대까지 "
      ],
      "metadata": {
        "id": "pr4iX9Ad_RrO"
      }
    },
    {
      "cell_type": "code",
      "source": [
        "print(\"나이 평균\",df['age'].mean())\n",
        "print(\"최소값\",df['age'].min())\n",
        "print(\"최대값\",df['age'].max())"
      ],
      "metadata": {
        "colab": {
          "base_uri": "https://localhost:8080/"
        },
        "id": "0JYmCsnLyLeE",
        "outputId": "da8ef29e-6317-4869-bda5-d94942221894"
      },
      "execution_count": 17,
      "outputs": [
        {
          "output_type": "stream",
          "name": "stdout",
          "text": [
            "나이 평균 55.918353027028544\n",
            "최소값 30.0\n",
            "최대값 80.0\n"
          ]
        }
      ]
    },
    {
      "cell_type": "code",
      "source": [
        "df.groupby('region').size()\n",
        "\n",
        "region.plot(color='grey', kind='bar', rot=0)\n",
        "plt.hlines(y=1900, xmin = 0, xmax = 17.5, color='red', linestyle='dotted')\n",
        "plt.title(\"지역별\")\n",
        "plt.tight_layout()"
      ],
      "metadata": {
        "colab": {
          "base_uri": "https://localhost:8080/",
          "height": 297
        },
        "id": "h9U61TBzxAEn",
        "outputId": "e8b40aec-99bf-48aa-a890-17e11b1e57b0"
      },
      "execution_count": 18,
      "outputs": [
        {
          "output_type": "display_data",
          "data": {
            "text/plain": [
              "<Figure size 432x288 with 1 Axes>"
            ],
            "image/png": "[encoded data removed]"
          },
          "metadata": {
            "needs_background": "light"
          }
        }
      ]
    },
    {
      "cell_type": "code",
      "source": [
        "df.loc[(df['age']<40)&(df['age']>=30), 'age']=1\n",
        "df.loc[(df['age']<50)&(df['age']>=40), 'age']=2\n",
        "df.loc[(df['age']<60)&(df['age']>=50), 'age']=3\n",
        "df.loc[(df['age']<70)&(df['age']>=60), 'age']=4\n",
        "df.loc[(df['age']<=80)&(df['age']>=70), 'age']=5"
      ],
      "metadata": {
        "id": "DCxb-e6SxSVK"
      },
      "execution_count": 19,
      "outputs": []
    },
    {
      "cell_type": "code",
      "source": [
        "plt.rcParams[\"figure.figsize\"] = (6,4)\n",
        "plt.rcParams['axes.grid'] = True \n",
        "\n",
        "def bar_chart(feature):\n",
        "    thirty = df[df['age']==1][feature].value_counts()\n",
        "    fourty = df[df['age']==2][feature].value_counts()\n",
        "    fifty = df[df['age']==3][feature].value_counts()\n",
        "    sixty = df[df['age']==4][feature].value_counts()\n",
        "    seventy = df[df['age']==5][feature].value_counts()\n",
        "    data = pd.DataFrame([thirty, fourty, fifty, sixty, seventy])\n",
        "    data.index = ['thirty', 'fourty', 'fifty', 'sixty', 'seventy']\n",
        "    data.plot(kind='bar',stacked=True)"
      ],
      "metadata": {
        "id": "Rl4GmSHxMW2R"
      },
      "execution_count": 20,
      "outputs": []
    },
    {
      "cell_type": "code",
      "source": [
        "bar_chart('mh_stress')"
      ],
      "metadata": {
        "colab": {
          "base_uri": "https://localhost:8080/",
          "height": 291
        },
        "id": "h4TV5xp7_ffh",
        "outputId": "a9343b2a-3d09-4509-de84-d848d46fbdf1"
      },
      "execution_count": 21,
      "outputs": [
        {
          "output_type": "display_data",
          "data": {
            "text/plain": [
              "<Figure size 432x288 with 1 Axes>"
            ],
            "image/png": "[encoded data removed]"
          },
          "metadata": {
            "needs_background": "light"
          }
        }
      ]
    },
    {
      "cell_type": "markdown",
      "source": [
        "60대,50대 스트레스 인지율이 더 높지만 상대적으로 스트레스를 더 많이 받는 연령대는 30,40,50대입니다."
      ],
      "metadata": {
        "id": "ez5sI38ONZTN"
      }
    },
    {
      "cell_type": "code",
      "source": [
        "bar_chart('D_1_1') #주관적 건강인지"
      ],
      "metadata": {
        "colab": {
          "base_uri": "https://localhost:8080/",
          "height": 291
        },
        "id": "J2ZnRCqSXFO5",
        "outputId": "bcfb91fa-65dd-43e8-c930-5450b77a52fe"
      },
      "execution_count": 22,
      "outputs": [
        {
          "output_type": "display_data",
          "data": {
            "text/plain": [
              "<Figure size 432x288 with 1 Axes>"
            ],
            "image/png": "[encoded data removed]"
          },
          "metadata": {
            "needs_background": "light"
          }
        }
      ]
    },
    {
      "cell_type": "markdown",
      "source": [
        "60대 이후로 건강이 나쁘다고 인지한 비율이 높음       \n",
        "50대부터 건강이 안좋다는 주관적 인지가 늘어나고 있음"
      ],
      "metadata": {
        "id": "Dda9qmBOXeNN"
      }
    },
    {
      "cell_type": "code",
      "source": [
        "bar_chart('EC1_1')"
      ],
      "metadata": {
        "colab": {
          "base_uri": "https://localhost:8080/",
          "height": 291
        },
        "id": "g7FGOj6uX327",
        "outputId": "88ed5281-4003-43ad-84ce-c3de82cac621"
      },
      "execution_count": 23,
      "outputs": [
        {
          "output_type": "display_data",
          "data": {
            "text/plain": [
              "<Figure size 432x288 with 1 Axes>"
            ],
            "image/png": "[encoded data removed]"
          },
          "metadata": {
            "needs_background": "light"
          }
        }
      ]
    },
    {
      "cell_type": "markdown",
      "source": [
        "50대까지는 취업자 비율이 높음"
      ],
      "metadata": {
        "id": "cHddgPeqYCp8"
      }
    },
    {
      "cell_type": "code",
      "source": [
        "bar_chart('marri_2') #결혼상태"
      ],
      "metadata": {
        "colab": {
          "base_uri": "https://localhost:8080/",
          "height": 291
        },
        "id": "tQgraBVzXuNO",
        "outputId": "4a5763e0-28ad-4e73-8917-e5934756110d"
      },
      "execution_count": 24,
      "outputs": [
        {
          "output_type": "display_data",
          "data": {
            "text/plain": [
              "<Figure size 432x288 with 1 Axes>"
            ],
            "image/png": "[encoded data removed]"
          },
          "metadata": {
            "needs_background": "light"
          }
        }
      ]
    },
    {
      "cell_type": "markdown",
      "source": [
        "70대부터 사별비율이 높아지면서 배우자 비율은 줄었음."
      ],
      "metadata": {
        "id": "pzPGKpqbYUbR"
      }
    },
    {
      "cell_type": "code",
      "source": [
        "disease = ['비만','고혈압','당뇨병','고콜레스테롤혈증','고중성지방혈증','B형간염','빈혈','뇌졸중','협심증또는심근경색증','천식','아토피피부염','골관절염','우울증']\n",
        "for i in range(len(disease)):\n",
        "  bar_chart(disease[i])\n",
        "  plt.title(disease[i])"
      ],
      "metadata": {
        "colab": {
          "base_uri": "https://localhost:8080/",
          "height": 1000
        },
        "id": "qrPmrBpQYTpl",
        "outputId": "c0a4d3e1-50b8-4205-c580-cf99afaaa3e8"
      },
      "execution_count": 25,
      "outputs": [
        {
          "output_type": "display_data",
          "data": {
            "text/plain": [
              "<Figure size 432x288 with 1 Axes>"
            ],
            "image/png": "[encoded data removed]"
          },
          "metadata": {
            "needs_background": "light"
          }
        },
        {
          "output_type": "display_data",
          "data": {
            "text/plain": [
              "<Figure size 432x288 with 1 Axes>"
            ],
            "image/png": "[encoded data removed]"
          },
          "metadata": {
            "needs_background": "light"
          }
        },
        {
          "output_type": "display_data",
          "data": {
            "text/plain": [
              "<Figure size 432x288 with 1 Axes>"
            ],
            "image/png": "[encoded data removed]"
          },
          "metadata": {
            "needs_background": "light"
          }
        },
        {
          "output_type": "display_data",
          "data": {
            "text/plain": [
              "<Figure size 432x288 with 1 Axes>"
            ],
            "image/png": "[encoded data removed]"
          },
          "metadata": {
            "needs_background": "light"
          }
        },
        {
          "output_type": "display_data",
          "data": {
            "text/plain": [
              "<Figure size 432x288 with 1 Axes>"
            ],
            "image/png": "[encoded data removed]"
          },
          "metadata": {
            "needs_background": "light"
          }
        },
        {
          "output_type": "display_data",
          "data": {
            "text/plain": [
              "<Figure size 432x288 with 1 Axes>"
            ],
            "image/png": "[encoded data removed]"
          },
          "metadata": {
            "needs_background": "light"
          }
        },
        {
          "output_type": "display_data",
          "data": {
            "text/plain": [
              "<Figure size 432x288 with 1 Axes>"
            ],
            "image/png": "[encoded data removed]"
          },
          "metadata": {
            "needs_background": "light"
          }
        },
        {
          "output_type": "display_data",
          "data": {
            "text/plain": [
              "<Figure size 432x288 with 1 Axes>"
            ],
            "image/png": "[encoded data removed]"
          },
          "metadata": {
            "needs_background": "light"
          }
        },
        {
          "output_type": "display_data",
          "data": {
            "text/plain": [
              "<Figure size 432x288 with 1 Axes>"
            ],
            "image/png": "[encoded data removed]"
          },
          "metadata": {
            "needs_background": "light"
          }
        },
        {
          "output_type": "display_data",
          "data": {
            "text/plain": [
              "<Figure size 432x288 with 1 Axes>"
            ],
            "image/png": "[encoded data removed]"
          },
          "metadata": {
            "needs_background": "light"
          }
        },
        {
          "output_type": "display_data",
          "data": {
            "text/plain": [
              "<Figure size 432x288 with 1 Axes>"
            ],
            "image/png": "[encoded data removed]"
          },
          "metadata": {
            "needs_background": "light"
          }
        },
        {
          "output_type": "display_data",
          "data": {
            "text/plain": [
              "<Figure size 432x288 with 1 Axes>"
            ],
            "image/png": "[encoded data removed]"
          },
          "metadata": {
            "needs_background": "light"
          }
        },
        {
          "output_type": "display_data",
          "data": {
            "text/plain": [
              "<Figure size 432x288 with 1 Axes>"
            ],
            "image/png": "[encoded data removed]"
          },
          "metadata": {
            "needs_background": "light"
          }
        }
      ]
    },
    {
      "cell_type": "markdown",
      "source": [
        "#성별에 따른 신체/질병 관련 특성"
      ],
      "metadata": {
        "id": "suWS2O6YMWdN"
      }
    },
    {
      "cell_type": "code",
      "source": [
        "sex = df.groupby('sex').size()\n",
        "\n",
        "sex.plot(color='grey', kind='bar', rot=0)\n",
        "plt.title(\"성별\")\n",
        "plt.tight_layout()"
      ],
      "metadata": {
        "colab": {
          "base_uri": "https://localhost:8080/",
          "height": 297
        },
        "id": "HUniE-alMdtx",
        "outputId": "47ad6946-28d1-4e35-d6af-82c5b3e68b5d"
      },
      "execution_count": 26,
      "outputs": [
        {
          "output_type": "display_data",
          "data": {
            "text/plain": [
              "<Figure size 432x288 with 1 Axes>"
            ],
            "image/png": "[encoded data removed]"
          },
          "metadata": {
            "needs_background": "light"
          }
        }
      ]
    },
    {
      "cell_type": "code",
      "source": [
        "men = df[df['sex']==1]['sex']\n",
        "men.value_counts()"
      ],
      "metadata": {
        "colab": {
          "base_uri": "https://localhost:8080/"
        },
        "id": "jRoTZfXuSUxA",
        "outputId": "65f0dc03-b3ce-44fb-be00-0adf8d2538e5"
      },
      "execution_count": 27,
      "outputs": [
        {
          "output_type": "execute_result",
          "data": {
            "text/plain": [
              "1.0    14620\n",
              "Name: sex, dtype: int64"
            ]
          },
          "metadata": {},
          "execution_count": 27
        }
      ]
    },
    {
      "cell_type": "code",
      "source": [
        "men = df[df['sex']==1]['year']\n",
        "men.value_counts()"
      ],
      "metadata": {
        "colab": {
          "base_uri": "https://localhost:8080/"
        },
        "id": "RTUgRYwLWVtu",
        "outputId": "d2507384-181a-4274-cf41-aa530ef75e51"
      },
      "execution_count": 28,
      "outputs": [
        {
          "output_type": "execute_result",
          "data": {
            "text/plain": [
              "2019.0    1527\n",
              "2011.0    1465\n",
              "2018.0    1458\n",
              "2017.0    1451\n",
              "2021.0    1352\n",
              "2012.0    1337\n",
              "2016.0    1258\n",
              "2020.0    1171\n",
              "2013.0    1166\n",
              "2015.0    1131\n",
              "2014.0    1098\n",
              "2010.0     206\n",
              "Name: year, dtype: int64"
            ]
          },
          "metadata": {},
          "execution_count": 28
        }
      ]
    },
    {
      "cell_type": "code",
      "source": [
        "women = df[df['sex']==2]['year']\n",
        "women.value_counts()"
      ],
      "metadata": {
        "colab": {
          "base_uri": "https://localhost:8080/"
        },
        "id": "zIJYmRaXXlwM",
        "outputId": "a7243803-fd97-4300-f6ba-1f054d9a84de"
      },
      "execution_count": 29,
      "outputs": [
        {
          "output_type": "execute_result",
          "data": {
            "text/plain": [
              "2019.0    2149\n",
              "2011.0    2146\n",
              "2018.0    2107\n",
              "2017.0    2014\n",
              "2012.0    1994\n",
              "2016.0    1910\n",
              "2021.0    1909\n",
              "2013.0    1714\n",
              "2020.0    1644\n",
              "2014.0    1624\n",
              "2015.0    1615\n",
              "2010.0     183\n",
              "Name: year, dtype: int64"
            ]
          },
          "metadata": {},
          "execution_count": 29
        }
      ]
    },
    {
      "cell_type": "markdown",
      "source": [
        "남성과 여성의 차이:\n",
        "2021년에는 남성들의 발병률이 여성보다 높았음"
      ],
      "metadata": {
        "id": "6VHh395tXuM4"
      }
    },
    {
      "cell_type": "code",
      "source": [
        "men.value_counts().index"
      ],
      "metadata": {
        "colab": {
          "base_uri": "https://localhost:8080/"
        },
        "id": "3fiCdbrKYxN0",
        "outputId": "366a5faa-9ca2-4971-9f5e-6599335437fd"
      },
      "execution_count": 30,
      "outputs": [
        {
          "output_type": "execute_result",
          "data": {
            "text/plain": [
              "Float64Index([2019.0, 2011.0, 2018.0, 2017.0, 2021.0, 2012.0, 2016.0, 2020.0,\n",
              "              2013.0, 2015.0, 2014.0, 2010.0],\n",
              "             dtype='float64')"
            ]
          },
          "metadata": {},
          "execution_count": 30
        }
      ]
    },
    {
      "cell_type": "code",
      "source": [
        "df.groupby('우울증').size()"
      ],
      "metadata": {
        "colab": {
          "base_uri": "https://localhost:8080/"
        },
        "id": "JyfD33UsxX7u",
        "outputId": "6dcd43f5-bf0c-4263-9828-33e880dd65be"
      },
      "execution_count": 31,
      "outputs": [
        {
          "output_type": "execute_result",
          "data": {
            "text/plain": [
              "우울증\n",
              "-1.0     6162\n",
              " 0.0    27692\n",
              " 1.0     1775\n",
              "dtype: int64"
            ]
          },
          "metadata": {},
          "execution_count": 31
        }
      ]
    },
    {
      "cell_type": "code",
      "source": [
        "plt.rcParams[\"figure.figsize\"] = (6,4)\n",
        "plt.rcParams['axes.grid'] = True \n",
        "\n",
        "def bar_chart(feature):\n",
        "    men = df[df['sex']==1][feature].value_counts()\n",
        "    women = df[df['sex']==2][feature].value_counts()\n",
        "    data = pd.DataFrame([men, women])\n",
        "    data.index = ['men','women']\n",
        "    data.plot(kind='bar',stacked=True)"
      ],
      "metadata": {
        "id": "H5C5Q04i_rPd"
      },
      "execution_count": 32,
      "outputs": []
    },
    {
      "cell_type": "code",
      "source": [
        "bar_chart('mh_stress')\n",
        "bar_chart('우울증')"
      ],
      "metadata": {
        "colab": {
          "base_uri": "https://localhost:8080/",
          "height": 561
        },
        "id": "H5-buXHKLTPk",
        "outputId": "6efba027-51b1-419c-95df-0c64a2eb6c83"
      },
      "execution_count": 33,
      "outputs": [
        {
          "output_type": "display_data",
          "data": {
            "text/plain": [
              "<Figure size 432x288 with 1 Axes>"
            ],
            "image/png": "[encoded data removed]"
          },
          "metadata": {
            "needs_background": "light"
          }
        },
        {
          "output_type": "display_data",
          "data": {
            "text/plain": [
              "<Figure size 432x288 with 1 Axes>"
            ],
            "image/png": "[encoded data removed]"
          },
          "metadata": {
            "needs_background": "light"
          }
        }
      ]
    },
    {
      "cell_type": "markdown",
      "source": [
        "여성이 남성보다 스트레스 인지율, 우울증이 더 높습니다."
      ],
      "metadata": {
        "id": "-lEDWaa6La1u"
      }
    },
    {
      "cell_type": "code",
      "source": [
        "bar_chart('BD1_11') #일년간 음주빈도"
      ],
      "metadata": {
        "colab": {
          "base_uri": "https://localhost:8080/",
          "height": 289
        },
        "id": "clC3vPy4OGwd",
        "outputId": "79cb9d81-4274-44ef-aa8d-d754e8490726"
      },
      "execution_count": 34,
      "outputs": [
        {
          "output_type": "display_data",
          "data": {
            "text/plain": [
              "<Figure size 432x288 with 1 Axes>"
            ],
            "image/png": "[encoded data removed]"
          },
          "metadata": {
            "needs_background": "light"
          }
        }
      ]
    },
    {
      "cell_type": "markdown",
      "source": [
        "주 3,4회 이상 마시는 비율은 남성이 더 높습니다."
      ],
      "metadata": {
        "id": "iZRBjZwVOvbu"
      }
    },
    {
      "cell_type": "code",
      "source": [
        "bar_chart('EC_wht_5')\n",
        "bar_chart('EC1_1')"
      ],
      "metadata": {
        "colab": {
          "base_uri": "https://localhost:8080/",
          "height": 561
        },
        "id": "W2SpN8_zOuib",
        "outputId": "c7bf793a-feda-4b63-f1ff-1dc150c55a8b"
      },
      "execution_count": 35,
      "outputs": [
        {
          "output_type": "display_data",
          "data": {
            "text/plain": [
              "<Figure size 432x288 with 1 Axes>"
            ],
            "image/png": "[encoded data removed]"
          },
          "metadata": {
            "needs_background": "light"
          }
        },
        {
          "output_type": "display_data",
          "data": {
            "text/plain": [
              "<Figure size 432x288 with 1 Axes>"
            ],
            "image/png": "[encoded data removed]"
          },
          "metadata": {
            "needs_background": "light"
          }
        }
      ]
    },
    {
      "cell_type": "markdown",
      "source": [
        "비경제활동, 실업자인 여성이 더 많음"
      ],
      "metadata": {
        "id": "KjAuVXodPwub"
      }
    }
  ]
}