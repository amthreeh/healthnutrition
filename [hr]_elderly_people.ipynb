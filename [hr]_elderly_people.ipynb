{
  "nbformat": 4,
  "nbformat_minor": 0,
  "metadata": {
    "colab": {
      "provenance": [],
      "authorship_tag": "ABX9TyM86Z/NT8lQ5RNqldjddPQM",
      "include_colab_link": true
    },
    "kernelspec": {
      "name": "python3",
      "display_name": "Python 3"
    },
    "language_info": {
      "name": "python"
    }
  },
  "cells": [
    {
      "cell_type": "markdown",
      "metadata": {
        "id": "view-in-github",
        "colab_type": "text"
      },
      "source": [
        "<a href=\"https://colab.research.google.com/github/amthreeh/healthnutrition/blob/main/%5Bhr%5D_elderly_people.ipynb\" target=\"_parent\"><img src=\"https://colab.research.google.com/assets/colab-badge.svg\" alt=\"Open In Colab\"/></a>"
      ]
    },
    {
      "cell_type": "code",
      "execution_count": null,
      "metadata": {
        "colab": {
          "base_uri": "https://localhost:8080/"
        },
        "id": "z74zRgFtkdV-",
        "outputId": "2b8cac4c-b94e-46f8-bb58-5c0b5eadc684"
      },
      "outputs": [
        {
          "output_type": "stream",
          "name": "stdout",
          "text": [
            "Drive already mounted at /content/drive; to attempt to forcibly remount, call drive.mount(\"/content/drive\", force_remount=True).\n"
          ]
        }
      ],
      "source": [
        "from google.colab import drive\n",
        "drive.mount('/content/drive')"
      ]
    },
    {
      "cell_type": "code",
      "source": [
        "import pandas as pd\n",
        "import numpy as np\n",
        "import seaborn as sns\n",
        "import matplotlib as mpl \n",
        "import matplotlib.pyplot as plt\n",
        "import matplotlib.gridspec as gridspec\n",
        "%matplotlib inline"
      ],
      "metadata": {
        "id": "nSqYPyTflHHR"
      },
      "execution_count": null,
      "outputs": []
    },
    {
      "cell_type": "code",
      "source": [
        "import matplotlib.font_manager as fm  \n",
        "\n",
        "!apt-get update -qq\n",
        "!apt-get install fonts-nanum* -qq\n",
        "\n",
        "path = '/usr/share/fonts/truetype/nanum/NanumBarunGothic.ttf' \n",
        "font_name = fm.FontProperties(fname=path, size=10).get_name()\n",
        "print(font_name)\n",
        "plt.rc('font', family=font_name)\n",
        "\n",
        "fm._rebuild()\n",
        "mpl.rcParams['axes.unicode_minus'] = False"
      ],
      "metadata": {
        "colab": {
          "base_uri": "https://localhost:8080/"
        },
        "id": "o-sTP4zNlK_v",
        "outputId": "c1c9c84f-4f1b-4b70-e91a-8f8129a4f067"
      },
      "execution_count": null,
      "outputs": [
        {
          "output_type": "stream",
          "name": "stdout",
          "text": [
            "NanumBarunGothic\n"
          ]
        }
      ]
    },
    {
      "cell_type": "code",
      "source": [
        "%cd /content/drive/MyDrive/nationalhealth-main"
      ],
      "metadata": {
        "id": "fwjN0Nu1lJrw",
        "colab": {
          "base_uri": "https://localhost:8080/"
        },
        "outputId": "8d3f8d35-eaee-4e8e-c68f-403bbe91957b"
      },
      "execution_count": null,
      "outputs": [
        {
          "output_type": "stream",
          "name": "stdout",
          "text": [
            "/content/drive/MyDrive/nationalhealth-main\n"
          ]
        }
      ]
    },
    {
      "cell_type": "code",
      "source": [
        "df = pd.read_csv('/content/drive/MyDrive/nationalhealth-main/nationalhealth_2010to2021.csv')"
      ],
      "metadata": {
        "id": "eZNH_JwgdhuO"
      },
      "execution_count": null,
      "outputs": []
    },
    {
      "cell_type": "code",
      "source": [
        "all_df = pd.read_csv('/content/drive/MyDrive/elderly people classification/전체독거노인.csv')\n",
        "region_old_g = pd.read_csv('/content/drive/MyDrive/elderly people classification/지역별 독거노인들.csv')\n",
        "region_not_old_g = pd.read_csv('/content/drive/MyDrive/elderly people classification/지역별 독거노인이 아닌사람들.csv')"
      ],
      "metadata": {
        "id": "0bycLL13UPSY"
      },
      "execution_count": null,
      "outputs": []
    },
    {
      "cell_type": "code",
      "source": [
        "all_df.columns.tolist()"
      ],
      "metadata": {
        "id": "y7zCwcYUlUzt",
        "colab": {
          "base_uri": "https://localhost:8080/"
        },
        "outputId": "6cf6d66d-0d8a-43fc-f3d8-438012bf59d3"
      },
      "execution_count": null,
      "outputs": [
        {
          "output_type": "execute_result",
          "data": {
            "text/plain": [
              "['Unnamed: 0',\n",
              " 'ID',\n",
              " 'ID_fam',\n",
              " 'year',\n",
              " 'region',\n",
              " 'town_t',\n",
              " 'sex',\n",
              " 'age',\n",
              " 'incm',\n",
              " 'ho_incm',\n",
              " 'incm5',\n",
              " 'ho_incm5',\n",
              " 'edu',\n",
              " 'occp',\n",
              " 'cfam',\n",
              " 'genertn',\n",
              " 'allownc',\n",
              " 'marri_1',\n",
              " 'marri_2',\n",
              " 'fam_rela',\n",
              " 'tins',\n",
              " 'D_1_1',\n",
              " 'educ',\n",
              " 'EC1_1',\n",
              " 'EC_wht_23',\n",
              " 'EC_wht_5',\n",
              " 'EC_pedu_1',\n",
              " 'EC_pedu_2',\n",
              " 'BD1_11',\n",
              " 'BD2_1',\n",
              " 'BD2_31',\n",
              " 'dr_month',\n",
              " 'BP6_10',\n",
              " 'BP7',\n",
              " 'mh_stress',\n",
              " 'BS3_1',\n",
              " 'BE3_31',\n",
              " 'BE5_1',\n",
              " 'LW_mt',\n",
              " 'LW_mt_a1',\n",
              " 'LW_br',\n",
              " 'HE_fst',\n",
              " 'HE_HPdr',\n",
              " 'HE_DMdr',\n",
              " 'HE_mens',\n",
              " 'HE_prg',\n",
              " 'HE_HPfh1',\n",
              " 'HE_HPfh2',\n",
              " 'HE_HPfh3',\n",
              " 'HE_HLfh1',\n",
              " 'HE_HLfh2',\n",
              " 'HE_HLfh3',\n",
              " 'HE_IHDfh1',\n",
              " 'HE_IHDfh2',\n",
              " 'HE_IHDfh3',\n",
              " 'HE_STRfh1',\n",
              " 'HE_STRfh2',\n",
              " 'HE_STRfh3',\n",
              " 'HE_DMfh1',\n",
              " 'HE_DMfh2',\n",
              " 'HE_DMfh3',\n",
              " 'HE_rPLS',\n",
              " 'HE_sbp',\n",
              " 'HE_dbp',\n",
              " 'HE_ht',\n",
              " 'HE_wt',\n",
              " 'HE_wc',\n",
              " 'HE_BMI',\n",
              " 'HE_glu',\n",
              " 'HE_HbA1c',\n",
              " 'HE_chol',\n",
              " 'HE_HDL_st2',\n",
              " 'HE_TG',\n",
              " 'HE_ast',\n",
              " 'HE_alt',\n",
              " 'HE_hepaB',\n",
              " 'HE_HB',\n",
              " 'HE_HCT',\n",
              " 'HE_BUN',\n",
              " 'HE_crea',\n",
              " 'HE_WBC',\n",
              " 'HE_RBC',\n",
              " 'HE_Bplt',\n",
              " 'HE_Uph',\n",
              " 'HE_Unitr',\n",
              " 'HE_Usg',\n",
              " 'HE_Upro',\n",
              " 'HE_Uglu',\n",
              " 'HE_Uket',\n",
              " 'HE_Ubil',\n",
              " 'HE_Ubld',\n",
              " 'HE_Uro',\n",
              " 'HE_Ucrea',\n",
              " 'N_INTK',\n",
              " 'N_EN',\n",
              " 'N_WATER',\n",
              " 'N_PROT',\n",
              " 'N_FAT',\n",
              " 'N_CHO',\n",
              " 'N_CA',\n",
              " 'N_PHOS',\n",
              " 'N_FE',\n",
              " 'N_NA',\n",
              " 'N_K',\n",
              " 'N_CAROT',\n",
              " 'N_RETIN',\n",
              " 'N_B1',\n",
              " 'N_B2',\n",
              " 'N_NIAC',\n",
              " 'N_VITC',\n",
              " '비만',\n",
              " '고혈압',\n",
              " '당뇨병',\n",
              " '고콜레스테롤혈증',\n",
              " '고중성지방혈증',\n",
              " 'B형간염',\n",
              " '빈혈',\n",
              " '뇌졸중',\n",
              " '협심증또는심근경색증',\n",
              " '천식',\n",
              " '아토피피부염',\n",
              " '골관절염',\n",
              " '우울증']"
            ]
          },
          "metadata": {},
          "execution_count": 7
        }
      ]
    },
    {
      "cell_type": "code",
      "source": [
        "all_df.head()"
      ],
      "metadata": {
        "colab": {
          "base_uri": "https://localhost:8080/",
          "height": 297
        },
        "id": "SzpjjNq9ZvZ8",
        "outputId": "4cb4dce6-fd3c-4f94-f71e-a1c857da0e10"
      },
      "execution_count": null,
      "outputs": [
        {
          "output_type": "execute_result",
          "data": {
            "text/plain": [
              "   Unnamed: 0             ID       ID_fam    year  region  town_t  sex   age  \\\n",
              "0          33  b'A326339801'  b'A3263398'  2010.0     1.0     1.0  2.0  74.0   \n",
              "1          56  b'A338719801'  b'A3387198'  2010.0     1.0     1.0  2.0  75.0   \n",
              "2          75  b'B309840901'  b'B3098409'  2010.0     2.0     1.0  2.0  65.0   \n",
              "3          76  b'B310600901'  b'B3106009'  2010.0     2.0     1.0  2.0  79.0   \n",
              "4          80  b'B311840901'  b'B3118409'  2010.0     2.0     1.0  2.0  75.0   \n",
              "\n",
              "   incm  ho_incm  ...  고콜레스테롤혈증  고중성지방혈증  B형간염   빈혈  뇌졸중  협심증또는심근경색증   천식  \\\n",
              "0   3.0      1.0  ...       0.0      0.0   0.0  0.0 -1.0         1.0 -1.0   \n",
              "1   2.0      1.0  ...       0.0      0.0   0.0  0.0 -1.0        -1.0 -1.0   \n",
              "2   2.0      1.0  ...       0.0      1.0   0.0  0.0 -1.0        -1.0 -1.0   \n",
              "3   1.0      1.0  ...       0.0      0.0   0.0  0.0 -1.0        -1.0  1.0   \n",
              "4   3.0      2.0  ...       0.0      0.0   0.0  0.0 -1.0        -1.0 -1.0   \n",
              "\n",
              "   아토피피부염  골관절염  우울증  \n",
              "0    -1.0   1.0 -1.0  \n",
              "1    -1.0  -1.0 -1.0  \n",
              "2    -1.0  -1.0 -1.0  \n",
              "3    -1.0  -1.0 -1.0  \n",
              "4    -1.0   1.0 -1.0  \n",
              "\n",
              "[5 rows x 123 columns]"
            ],
            "text/html": [
              "\n",
              "  <div id=\"df-62aa65cb-2d84-448b-8e29-141f8b01db65\">\n",
              "    <div class=\"colab-df-container\">\n",
              "      <div>\n",
              "<style scoped>\n",
              "    .dataframe tbody tr th:only-of-type {\n",
              "        vertical-align: middle;\n",
              "    }\n",
              "\n",
              "    .dataframe tbody tr th {\n",
              "        vertical-align: top;\n",
              "    }\n",
              "\n",
              "    .dataframe thead th {\n",
              "        text-align: right;\n",
              "    }\n",
              "</style>\n",
              "<table border=\"1\" class=\"dataframe\">\n",
              "  <thead>\n",
              "    <tr style=\"text-align: right;\">\n",
              "      <th></th>\n",
              "      <th>Unnamed: 0</th>\n",
              "      <th>ID</th>\n",
              "      <th>ID_fam</th>\n",
              "      <th>year</th>\n",
              "      <th>region</th>\n",
              "      <th>town_t</th>\n",
              "      <th>sex</th>\n",
              "      <th>age</th>\n",
              "      <th>incm</th>\n",
              "      <th>ho_incm</th>\n",
              "      <th>...</th>\n",
              "      <th>고콜레스테롤혈증</th>\n",
              "      <th>고중성지방혈증</th>\n",
              "      <th>B형간염</th>\n",
              "      <th>빈혈</th>\n",
              "      <th>뇌졸중</th>\n",
              "      <th>협심증또는심근경색증</th>\n",
              "      <th>천식</th>\n",
              "      <th>아토피피부염</th>\n",
              "      <th>골관절염</th>\n",
              "      <th>우울증</th>\n",
              "    </tr>\n",
              "  </thead>\n",
              "  <tbody>\n",
              "    <tr>\n",
              "      <th>0</th>\n",
              "      <td>33</td>\n",
              "      <td>b'A326339801'</td>\n",
              "      <td>b'A3263398'</td>\n",
              "      <td>2010.0</td>\n",
              "      <td>1.0</td>\n",
              "      <td>1.0</td>\n",
              "      <td>2.0</td>\n",
              "      <td>74.0</td>\n",
              "      <td>3.0</td>\n",
              "      <td>1.0</td>\n",
              "      <td>...</td>\n",
              "      <td>0.0</td>\n",
              "      <td>0.0</td>\n",
              "      <td>0.0</td>\n",
              "      <td>0.0</td>\n",
              "      <td>-1.0</td>\n",
              "      <td>1.0</td>\n",
              "      <td>-1.0</td>\n",
              "      <td>-1.0</td>\n",
              "      <td>1.0</td>\n",
              "      <td>-1.0</td>\n",
              "    </tr>\n",
              "    <tr>\n",
              "      <th>1</th>\n",
              "      <td>56</td>\n",
              "      <td>b'A338719801'</td>\n",
              "      <td>b'A3387198'</td>\n",
              "      <td>2010.0</td>\n",
              "      <td>1.0</td>\n",
              "      <td>1.0</td>\n",
              "      <td>2.0</td>\n",
              "      <td>75.0</td>\n",
              "      <td>2.0</td>\n",
              "      <td>1.0</td>\n",
              "      <td>...</td>\n",
              "      <td>0.0</td>\n",
              "      <td>0.0</td>\n",
              "      <td>0.0</td>\n",
              "      <td>0.0</td>\n",
              "      <td>-1.0</td>\n",
              "      <td>-1.0</td>\n",
              "      <td>-1.0</td>\n",
              "      <td>-1.0</td>\n",
              "      <td>-1.0</td>\n",
              "      <td>-1.0</td>\n",
              "    </tr>\n",
              "    <tr>\n",
              "      <th>2</th>\n",
              "      <td>75</td>\n",
              "      <td>b'B309840901'</td>\n",
              "      <td>b'B3098409'</td>\n",
              "      <td>2010.0</td>\n",
              "      <td>2.0</td>\n",
              "      <td>1.0</td>\n",
              "      <td>2.0</td>\n",
              "      <td>65.0</td>\n",
              "      <td>2.0</td>\n",
              "      <td>1.0</td>\n",
              "      <td>...</td>\n",
              "      <td>0.0</td>\n",
              "      <td>1.0</td>\n",
              "      <td>0.0</td>\n",
              "      <td>0.0</td>\n",
              "      <td>-1.0</td>\n",
              "      <td>-1.0</td>\n",
              "      <td>-1.0</td>\n",
              "      <td>-1.0</td>\n",
              "      <td>-1.0</td>\n",
              "      <td>-1.0</td>\n",
              "    </tr>\n",
              "    <tr>\n",
              "      <th>3</th>\n",
              "      <td>76</td>\n",
              "      <td>b'B310600901'</td>\n",
              "      <td>b'B3106009'</td>\n",
              "      <td>2010.0</td>\n",
              "      <td>2.0</td>\n",
              "      <td>1.0</td>\n",
              "      <td>2.0</td>\n",
              "      <td>79.0</td>\n",
              "      <td>1.0</td>\n",
              "      <td>1.0</td>\n",
              "      <td>...</td>\n",
              "      <td>0.0</td>\n",
              "      <td>0.0</td>\n",
              "      <td>0.0</td>\n",
              "      <td>0.0</td>\n",
              "      <td>-1.0</td>\n",
              "      <td>-1.0</td>\n",
              "      <td>1.0</td>\n",
              "      <td>-1.0</td>\n",
              "      <td>-1.0</td>\n",
              "      <td>-1.0</td>\n",
              "    </tr>\n",
              "    <tr>\n",
              "      <th>4</th>\n",
              "      <td>80</td>\n",
              "      <td>b'B311840901'</td>\n",
              "      <td>b'B3118409'</td>\n",
              "      <td>2010.0</td>\n",
              "      <td>2.0</td>\n",
              "      <td>1.0</td>\n",
              "      <td>2.0</td>\n",
              "      <td>75.0</td>\n",
              "      <td>3.0</td>\n",
              "      <td>2.0</td>\n",
              "      <td>...</td>\n",
              "      <td>0.0</td>\n",
              "      <td>0.0</td>\n",
              "      <td>0.0</td>\n",
              "      <td>0.0</td>\n",
              "      <td>-1.0</td>\n",
              "      <td>-1.0</td>\n",
              "      <td>-1.0</td>\n",
              "      <td>-1.0</td>\n",
              "      <td>1.0</td>\n",
              "      <td>-1.0</td>\n",
              "    </tr>\n",
              "  </tbody>\n",
              "</table>\n",
              "<p>5 rows × 123 columns</p>\n",
              "</div>\n",
              "      <button class=\"colab-df-convert\" onclick=\"convertToInteractive('df-62aa65cb-2d84-448b-8e29-141f8b01db65')\"\n",
              "              title=\"Convert this dataframe to an interactive table.\"\n",
              "              style=\"display:none;\">\n",
              "        \n",
              "  <svg xmlns=\"http://www.w3.org/2000/svg\" height=\"24px\"viewBox=\"0 0 24 24\"\n",
              "       width=\"24px\">\n",
              "    <path d=\"M0 0h24v24H0V0z\" fill=\"none\"/>\n",
              "    <path d=\"M18.56 5.44l.94 2.06.94-2.06 2.06-.94-2.06-.94-.94-2.06-.94 2.06-2.06.94zm-11 1L8.5 8.5l.94-2.06 2.06-.94-2.06-.94L8.5 2.5l-.94 2.06-2.06.94zm10 10l.94 2.06.94-2.06 2.06-.94-2.06-.94-.94-2.06-.94 2.06-2.06.94z\"/><path d=\"M17.41 7.96l-1.37-1.37c-.4-.4-.92-.59-1.43-.59-.52 0-1.04.2-1.43.59L10.3 9.45l-7.72 7.72c-.78.78-.78 2.05 0 2.83L4 21.41c.39.39.9.59 1.41.59.51 0 1.02-.2 1.41-.59l7.78-7.78 2.81-2.81c.8-.78.8-2.07 0-2.86zM5.41 20L4 18.59l7.72-7.72 1.47 1.35L5.41 20z\"/>\n",
              "  </svg>\n",
              "      </button>\n",
              "      \n",
              "  <style>\n",
              "    .colab-df-container {\n",
              "      display:flex;\n",
              "      flex-wrap:wrap;\n",
              "      gap: 12px;\n",
              "    }\n",
              "\n",
              "    .colab-df-convert {\n",
              "      background-color: #E8F0FE;\n",
              "      border: none;\n",
              "      border-radius: 50%;\n",
              "      cursor: pointer;\n",
              "      display: none;\n",
              "      fill: #1967D2;\n",
              "      height: 32px;\n",
              "      padding: 0 0 0 0;\n",
              "      width: 32px;\n",
              "    }\n",
              "\n",
              "    .colab-df-convert:hover {\n",
              "      background-color: #E2EBFA;\n",
              "      box-shadow: 0px 1px 2px rgba(60, 64, 67, 0.3), 0px 1px 3px 1px rgba(60, 64, 67, 0.15);\n",
              "      fill: #174EA6;\n",
              "    }\n",
              "\n",
              "    [theme=dark] .colab-df-convert {\n",
              "      background-color: #3B4455;\n",
              "      fill: #D2E3FC;\n",
              "    }\n",
              "\n",
              "    [theme=dark] .colab-df-convert:hover {\n",
              "      background-color: #434B5C;\n",
              "      box-shadow: 0px 1px 3px 1px rgba(0, 0, 0, 0.15);\n",
              "      filter: drop-shadow(0px 1px 2px rgba(0, 0, 0, 0.3));\n",
              "      fill: #FFFFFF;\n",
              "    }\n",
              "  </style>\n",
              "\n",
              "      <script>\n",
              "        const buttonEl =\n",
              "          document.querySelector('#df-62aa65cb-2d84-448b-8e29-141f8b01db65 button.colab-df-convert');\n",
              "        buttonEl.style.display =\n",
              "          google.colab.kernel.accessAllowed ? 'block' : 'none';\n",
              "\n",
              "        async function convertToInteractive(key) {\n",
              "          const element = document.querySelector('#df-62aa65cb-2d84-448b-8e29-141f8b01db65');\n",
              "          const dataTable =\n",
              "            await google.colab.kernel.invokeFunction('convertToInteractive',\n",
              "                                                     [key], {});\n",
              "          if (!dataTable) return;\n",
              "\n",
              "          const docLinkHtml = 'Like what you see? Visit the ' +\n",
              "            '<a target=\"_blank\" href=https://colab.research.google.com/notebooks/data_table.ipynb>data table notebook</a>'\n",
              "            + ' to learn more about interactive tables.';\n",
              "          element.innerHTML = '';\n",
              "          dataTable['output_type'] = 'display_data';\n",
              "          await google.colab.output.renderOutput(dataTable, element);\n",
              "          const docLink = document.createElement('div');\n",
              "          docLink.innerHTML = docLinkHtml;\n",
              "          element.appendChild(docLink);\n",
              "        }\n",
              "      </script>\n",
              "    </div>\n",
              "  </div>\n",
              "  "
            ]
          },
          "metadata": {},
          "execution_count": 8
        }
      ]
    },
    {
      "cell_type": "code",
      "source": [
        "all_df.shape"
      ],
      "metadata": {
        "colab": {
          "base_uri": "https://localhost:8080/"
        },
        "id": "uJYya9ixZyMO",
        "outputId": "2fbf1d18-ced9-4882-9c30-3bd51f449de1"
      },
      "execution_count": null,
      "outputs": [
        {
          "output_type": "execute_result",
          "data": {
            "text/plain": [
              "(2483, 123)"
            ]
          },
          "metadata": {},
          "execution_count": 9
        }
      ]
    },
    {
      "cell_type": "code",
      "source": [
        "region_old_g.head()"
      ],
      "metadata": {
        "colab": {
          "base_uri": "https://localhost:8080/",
          "height": 297
        },
        "id": "TBoVGwtjZ2hQ",
        "outputId": "9f361c36-bea4-4b24-ecd8-ecbc5be8e18b"
      },
      "execution_count": null,
      "outputs": [
        {
          "output_type": "execute_result",
          "data": {
            "text/plain": [
              "   Unnamed: 0             ID       ID_fam    year  region  town_t  sex   age  \\\n",
              "0          33  b'A326339801'  b'A3263398'  2010.0     1.0     1.0  2.0  74.0   \n",
              "1          56  b'A338719801'  b'A3387198'  2010.0     1.0     1.0  2.0  75.0   \n",
              "2         427  b'A350972901'  b'A3509729'  2011.0     1.0     1.0  2.0  71.0   \n",
              "3         464  b'A352419801'  b'A3524198'  2011.0     1.0     1.0  2.0  72.0   \n",
              "4         488  b'A353559801'  b'A3535598'  2011.0     1.0     1.0  2.0  72.0   \n",
              "\n",
              "   incm  ho_incm  ...  고콜레스테롤혈증  고중성지방혈증  B형간염   빈혈  뇌졸중  협심증또는심근경색증   천식  \\\n",
              "0   3.0      1.0  ...       0.0      0.0   0.0  0.0 -1.0         1.0 -1.0   \n",
              "1   2.0      1.0  ...       0.0      0.0   0.0  0.0 -1.0        -1.0 -1.0   \n",
              "2   2.0      1.0  ...       1.0      1.0   0.0  1.0 -1.0        -1.0 -1.0   \n",
              "3   4.0      2.0  ...       1.0      1.0   0.0  0.0 -1.0        -1.0  1.0   \n",
              "4   1.0      1.0  ...       0.0      0.0   0.0  0.0 -1.0        -1.0 -1.0   \n",
              "\n",
              "   아토피피부염  골관절염  우울증  \n",
              "0    -1.0   1.0 -1.0  \n",
              "1    -1.0  -1.0 -1.0  \n",
              "2     0.0   1.0 -1.0  \n",
              "3     1.0  -1.0 -1.0  \n",
              "4    -1.0   1.0 -1.0  \n",
              "\n",
              "[5 rows x 123 columns]"
            ],
            "text/html": [
              "\n",
              "  <div id=\"df-388b0598-9f17-4dc0-babf-6914f788ce0e\">\n",
              "    <div class=\"colab-df-container\">\n",
              "      <div>\n",
              "<style scoped>\n",
              "    .dataframe tbody tr th:only-of-type {\n",
              "        vertical-align: middle;\n",
              "    }\n",
              "\n",
              "    .dataframe tbody tr th {\n",
              "        vertical-align: top;\n",
              "    }\n",
              "\n",
              "    .dataframe thead th {\n",
              "        text-align: right;\n",
              "    }\n",
              "</style>\n",
              "<table border=\"1\" class=\"dataframe\">\n",
              "  <thead>\n",
              "    <tr style=\"text-align: right;\">\n",
              "      <th></th>\n",
              "      <th>Unnamed: 0</th>\n",
              "      <th>ID</th>\n",
              "      <th>ID_fam</th>\n",
              "      <th>year</th>\n",
              "      <th>region</th>\n",
              "      <th>town_t</th>\n",
              "      <th>sex</th>\n",
              "      <th>age</th>\n",
              "      <th>incm</th>\n",
              "      <th>ho_incm</th>\n",
              "      <th>...</th>\n",
              "      <th>고콜레스테롤혈증</th>\n",
              "      <th>고중성지방혈증</th>\n",
              "      <th>B형간염</th>\n",
              "      <th>빈혈</th>\n",
              "      <th>뇌졸중</th>\n",
              "      <th>협심증또는심근경색증</th>\n",
              "      <th>천식</th>\n",
              "      <th>아토피피부염</th>\n",
              "      <th>골관절염</th>\n",
              "      <th>우울증</th>\n",
              "    </tr>\n",
              "  </thead>\n",
              "  <tbody>\n",
              "    <tr>\n",
              "      <th>0</th>\n",
              "      <td>33</td>\n",
              "      <td>b'A326339801'</td>\n",
              "      <td>b'A3263398'</td>\n",
              "      <td>2010.0</td>\n",
              "      <td>1.0</td>\n",
              "      <td>1.0</td>\n",
              "      <td>2.0</td>\n",
              "      <td>74.0</td>\n",
              "      <td>3.0</td>\n",
              "      <td>1.0</td>\n",
              "      <td>...</td>\n",
              "      <td>0.0</td>\n",
              "      <td>0.0</td>\n",
              "      <td>0.0</td>\n",
              "      <td>0.0</td>\n",
              "      <td>-1.0</td>\n",
              "      <td>1.0</td>\n",
              "      <td>-1.0</td>\n",
              "      <td>-1.0</td>\n",
              "      <td>1.0</td>\n",
              "      <td>-1.0</td>\n",
              "    </tr>\n",
              "    <tr>\n",
              "      <th>1</th>\n",
              "      <td>56</td>\n",
              "      <td>b'A338719801'</td>\n",
              "      <td>b'A3387198'</td>\n",
              "      <td>2010.0</td>\n",
              "      <td>1.0</td>\n",
              "      <td>1.0</td>\n",
              "      <td>2.0</td>\n",
              "      <td>75.0</td>\n",
              "      <td>2.0</td>\n",
              "      <td>1.0</td>\n",
              "      <td>...</td>\n",
              "      <td>0.0</td>\n",
              "      <td>0.0</td>\n",
              "      <td>0.0</td>\n",
              "      <td>0.0</td>\n",
              "      <td>-1.0</td>\n",
              "      <td>-1.0</td>\n",
              "      <td>-1.0</td>\n",
              "      <td>-1.0</td>\n",
              "      <td>-1.0</td>\n",
              "      <td>-1.0</td>\n",
              "    </tr>\n",
              "    <tr>\n",
              "      <th>2</th>\n",
              "      <td>427</td>\n",
              "      <td>b'A350972901'</td>\n",
              "      <td>b'A3509729'</td>\n",
              "      <td>2011.0</td>\n",
              "      <td>1.0</td>\n",
              "      <td>1.0</td>\n",
              "      <td>2.0</td>\n",
              "      <td>71.0</td>\n",
              "      <td>2.0</td>\n",
              "      <td>1.0</td>\n",
              "      <td>...</td>\n",
              "      <td>1.0</td>\n",
              "      <td>1.0</td>\n",
              "      <td>0.0</td>\n",
              "      <td>1.0</td>\n",
              "      <td>-1.0</td>\n",
              "      <td>-1.0</td>\n",
              "      <td>-1.0</td>\n",
              "      <td>0.0</td>\n",
              "      <td>1.0</td>\n",
              "      <td>-1.0</td>\n",
              "    </tr>\n",
              "    <tr>\n",
              "      <th>3</th>\n",
              "      <td>464</td>\n",
              "      <td>b'A352419801'</td>\n",
              "      <td>b'A3524198'</td>\n",
              "      <td>2011.0</td>\n",
              "      <td>1.0</td>\n",
              "      <td>1.0</td>\n",
              "      <td>2.0</td>\n",
              "      <td>72.0</td>\n",
              "      <td>4.0</td>\n",
              "      <td>2.0</td>\n",
              "      <td>...</td>\n",
              "      <td>1.0</td>\n",
              "      <td>1.0</td>\n",
              "      <td>0.0</td>\n",
              "      <td>0.0</td>\n",
              "      <td>-1.0</td>\n",
              "      <td>-1.0</td>\n",
              "      <td>1.0</td>\n",
              "      <td>1.0</td>\n",
              "      <td>-1.0</td>\n",
              "      <td>-1.0</td>\n",
              "    </tr>\n",
              "    <tr>\n",
              "      <th>4</th>\n",
              "      <td>488</td>\n",
              "      <td>b'A353559801'</td>\n",
              "      <td>b'A3535598'</td>\n",
              "      <td>2011.0</td>\n",
              "      <td>1.0</td>\n",
              "      <td>1.0</td>\n",
              "      <td>2.0</td>\n",
              "      <td>72.0</td>\n",
              "      <td>1.0</td>\n",
              "      <td>1.0</td>\n",
              "      <td>...</td>\n",
              "      <td>0.0</td>\n",
              "      <td>0.0</td>\n",
              "      <td>0.0</td>\n",
              "      <td>0.0</td>\n",
              "      <td>-1.0</td>\n",
              "      <td>-1.0</td>\n",
              "      <td>-1.0</td>\n",
              "      <td>-1.0</td>\n",
              "      <td>1.0</td>\n",
              "      <td>-1.0</td>\n",
              "    </tr>\n",
              "  </tbody>\n",
              "</table>\n",
              "<p>5 rows × 123 columns</p>\n",
              "</div>\n",
              "      <button class=\"colab-df-convert\" onclick=\"convertToInteractive('df-388b0598-9f17-4dc0-babf-6914f788ce0e')\"\n",
              "              title=\"Convert this dataframe to an interactive table.\"\n",
              "              style=\"display:none;\">\n",
              "        \n",
              "  <svg xmlns=\"http://www.w3.org/2000/svg\" height=\"24px\"viewBox=\"0 0 24 24\"\n",
              "       width=\"24px\">\n",
              "    <path d=\"M0 0h24v24H0V0z\" fill=\"none\"/>\n",
              "    <path d=\"M18.56 5.44l.94 2.06.94-2.06 2.06-.94-2.06-.94-.94-2.06-.94 2.06-2.06.94zm-11 1L8.5 8.5l.94-2.06 2.06-.94-2.06-.94L8.5 2.5l-.94 2.06-2.06.94zm10 10l.94 2.06.94-2.06 2.06-.94-2.06-.94-.94-2.06-.94 2.06-2.06.94z\"/><path d=\"M17.41 7.96l-1.37-1.37c-.4-.4-.92-.59-1.43-.59-.52 0-1.04.2-1.43.59L10.3 9.45l-7.72 7.72c-.78.78-.78 2.05 0 2.83L4 21.41c.39.39.9.59 1.41.59.51 0 1.02-.2 1.41-.59l7.78-7.78 2.81-2.81c.8-.78.8-2.07 0-2.86zM5.41 20L4 18.59l7.72-7.72 1.47 1.35L5.41 20z\"/>\n",
              "  </svg>\n",
              "      </button>\n",
              "      \n",
              "  <style>\n",
              "    .colab-df-container {\n",
              "      display:flex;\n",
              "      flex-wrap:wrap;\n",
              "      gap: 12px;\n",
              "    }\n",
              "\n",
              "    .colab-df-convert {\n",
              "      background-color: #E8F0FE;\n",
              "      border: none;\n",
              "      border-radius: 50%;\n",
              "      cursor: pointer;\n",
              "      display: none;\n",
              "      fill: #1967D2;\n",
              "      height: 32px;\n",
              "      padding: 0 0 0 0;\n",
              "      width: 32px;\n",
              "    }\n",
              "\n",
              "    .colab-df-convert:hover {\n",
              "      background-color: #E2EBFA;\n",
              "      box-shadow: 0px 1px 2px rgba(60, 64, 67, 0.3), 0px 1px 3px 1px rgba(60, 64, 67, 0.15);\n",
              "      fill: #174EA6;\n",
              "    }\n",
              "\n",
              "    [theme=dark] .colab-df-convert {\n",
              "      background-color: #3B4455;\n",
              "      fill: #D2E3FC;\n",
              "    }\n",
              "\n",
              "    [theme=dark] .colab-df-convert:hover {\n",
              "      background-color: #434B5C;\n",
              "      box-shadow: 0px 1px 3px 1px rgba(0, 0, 0, 0.15);\n",
              "      filter: drop-shadow(0px 1px 2px rgba(0, 0, 0, 0.3));\n",
              "      fill: #FFFFFF;\n",
              "    }\n",
              "  </style>\n",
              "\n",
              "      <script>\n",
              "        const buttonEl =\n",
              "          document.querySelector('#df-388b0598-9f17-4dc0-babf-6914f788ce0e button.colab-df-convert');\n",
              "        buttonEl.style.display =\n",
              "          google.colab.kernel.accessAllowed ? 'block' : 'none';\n",
              "\n",
              "        async function convertToInteractive(key) {\n",
              "          const element = document.querySelector('#df-388b0598-9f17-4dc0-babf-6914f788ce0e');\n",
              "          const dataTable =\n",
              "            await google.colab.kernel.invokeFunction('convertToInteractive',\n",
              "                                                     [key], {});\n",
              "          if (!dataTable) return;\n",
              "\n",
              "          const docLinkHtml = 'Like what you see? Visit the ' +\n",
              "            '<a target=\"_blank\" href=https://colab.research.google.com/notebooks/data_table.ipynb>data table notebook</a>'\n",
              "            + ' to learn more about interactive tables.';\n",
              "          element.innerHTML = '';\n",
              "          dataTable['output_type'] = 'display_data';\n",
              "          await google.colab.output.renderOutput(dataTable, element);\n",
              "          const docLink = document.createElement('div');\n",
              "          docLink.innerHTML = docLinkHtml;\n",
              "          element.appendChild(docLink);\n",
              "        }\n",
              "      </script>\n",
              "    </div>\n",
              "  </div>\n",
              "  "
            ]
          },
          "metadata": {},
          "execution_count": 10
        }
      ]
    },
    {
      "cell_type": "code",
      "source": [
        "region_old_g.shape"
      ],
      "metadata": {
        "colab": {
          "base_uri": "https://localhost:8080/"
        },
        "id": "9kv6WmWMZ-6E",
        "outputId": "f9cb537f-6569-49f8-8090-ef5294e4788c"
      },
      "execution_count": null,
      "outputs": [
        {
          "output_type": "execute_result",
          "data": {
            "text/plain": [
              "(2483, 123)"
            ]
          },
          "metadata": {},
          "execution_count": 11
        }
      ]
    },
    {
      "cell_type": "code",
      "source": [
        "region_not_old_g.head()"
      ],
      "metadata": {
        "colab": {
          "base_uri": "https://localhost:8080/",
          "height": 297
        },
        "id": "D1ryIvY13zdg",
        "outputId": "b3b3e344-c86b-469b-8352-8e4896871be9"
      },
      "execution_count": null,
      "outputs": [
        {
          "output_type": "execute_result",
          "data": {
            "text/plain": [
              "   Unnamed: 0             ID       ID_fam    year  region  town_t  sex   age  \\\n",
              "0           0  b'A308780901'  b'A3087809'  2010.0     1.0     1.0  1.0  74.0   \n",
              "1           1  b'A309099802'  b'A3090998'  2010.0     1.0     1.0  2.0  71.0   \n",
              "2           2  b'A309460901'  b'A3094609'  2010.0     1.0     1.0  2.0  61.0   \n",
              "3           3  b'A309460902'  b'A3094609'  2010.0     1.0     1.0  1.0  32.0   \n",
              "4           5  b'A310980901'  b'A3109809'  2010.0     1.0     1.0  1.0  80.0   \n",
              "\n",
              "   incm  ho_incm  ...  고콜레스테롤혈증  고중성지방혈증  B형간염   빈혈  뇌졸중  협심증또는심근경색증   천식  \\\n",
              "0   3.0      2.0  ...       0.0      1.0   0.0  0.0 -1.0        -1.0  0.0   \n",
              "1   2.0      1.0  ...       0.0      0.0   0.0  0.0 -1.0        -1.0 -1.0   \n",
              "2   3.0      2.0  ...       0.0      0.0   0.0  0.0 -1.0        -1.0  1.0   \n",
              "3   2.0      2.0  ...       0.0      1.0   0.0  0.0 -1.0        -1.0 -1.0   \n",
              "4   1.0      1.0  ...       0.0      0.0   0.0  0.0 -1.0        -1.0 -1.0   \n",
              "\n",
              "   아토피피부염  골관절염  우울증  \n",
              "0    -1.0  -1.0 -1.0  \n",
              "1    -1.0  -1.0 -1.0  \n",
              "2    -1.0   1.0 -1.0  \n",
              "3    -1.0  -1.0  1.0  \n",
              "4    -1.0   1.0 -1.0  \n",
              "\n",
              "[5 rows x 123 columns]"
            ],
            "text/html": [
              "\n",
              "  <div id=\"df-40cd9cb3-8f20-44fa-acdd-628e6f6914f1\">\n",
              "    <div class=\"colab-df-container\">\n",
              "      <div>\n",
              "<style scoped>\n",
              "    .dataframe tbody tr th:only-of-type {\n",
              "        vertical-align: middle;\n",
              "    }\n",
              "\n",
              "    .dataframe tbody tr th {\n",
              "        vertical-align: top;\n",
              "    }\n",
              "\n",
              "    .dataframe thead th {\n",
              "        text-align: right;\n",
              "    }\n",
              "</style>\n",
              "<table border=\"1\" class=\"dataframe\">\n",
              "  <thead>\n",
              "    <tr style=\"text-align: right;\">\n",
              "      <th></th>\n",
              "      <th>Unnamed: 0</th>\n",
              "      <th>ID</th>\n",
              "      <th>ID_fam</th>\n",
              "      <th>year</th>\n",
              "      <th>region</th>\n",
              "      <th>town_t</th>\n",
              "      <th>sex</th>\n",
              "      <th>age</th>\n",
              "      <th>incm</th>\n",
              "      <th>ho_incm</th>\n",
              "      <th>...</th>\n",
              "      <th>고콜레스테롤혈증</th>\n",
              "      <th>고중성지방혈증</th>\n",
              "      <th>B형간염</th>\n",
              "      <th>빈혈</th>\n",
              "      <th>뇌졸중</th>\n",
              "      <th>협심증또는심근경색증</th>\n",
              "      <th>천식</th>\n",
              "      <th>아토피피부염</th>\n",
              "      <th>골관절염</th>\n",
              "      <th>우울증</th>\n",
              "    </tr>\n",
              "  </thead>\n",
              "  <tbody>\n",
              "    <tr>\n",
              "      <th>0</th>\n",
              "      <td>0</td>\n",
              "      <td>b'A308780901'</td>\n",
              "      <td>b'A3087809'</td>\n",
              "      <td>2010.0</td>\n",
              "      <td>1.0</td>\n",
              "      <td>1.0</td>\n",
              "      <td>1.0</td>\n",
              "      <td>74.0</td>\n",
              "      <td>3.0</td>\n",
              "      <td>2.0</td>\n",
              "      <td>...</td>\n",
              "      <td>0.0</td>\n",
              "      <td>1.0</td>\n",
              "      <td>0.0</td>\n",
              "      <td>0.0</td>\n",
              "      <td>-1.0</td>\n",
              "      <td>-1.0</td>\n",
              "      <td>0.0</td>\n",
              "      <td>-1.0</td>\n",
              "      <td>-1.0</td>\n",
              "      <td>-1.0</td>\n",
              "    </tr>\n",
              "    <tr>\n",
              "      <th>1</th>\n",
              "      <td>1</td>\n",
              "      <td>b'A309099802'</td>\n",
              "      <td>b'A3090998'</td>\n",
              "      <td>2010.0</td>\n",
              "      <td>1.0</td>\n",
              "      <td>1.0</td>\n",
              "      <td>2.0</td>\n",
              "      <td>71.0</td>\n",
              "      <td>2.0</td>\n",
              "      <td>1.0</td>\n",
              "      <td>...</td>\n",
              "      <td>0.0</td>\n",
              "      <td>0.0</td>\n",
              "      <td>0.0</td>\n",
              "      <td>0.0</td>\n",
              "      <td>-1.0</td>\n",
              "      <td>-1.0</td>\n",
              "      <td>-1.0</td>\n",
              "      <td>-1.0</td>\n",
              "      <td>-1.0</td>\n",
              "      <td>-1.0</td>\n",
              "    </tr>\n",
              "    <tr>\n",
              "      <th>2</th>\n",
              "      <td>2</td>\n",
              "      <td>b'A309460901'</td>\n",
              "      <td>b'A3094609'</td>\n",
              "      <td>2010.0</td>\n",
              "      <td>1.0</td>\n",
              "      <td>1.0</td>\n",
              "      <td>2.0</td>\n",
              "      <td>61.0</td>\n",
              "      <td>3.0</td>\n",
              "      <td>2.0</td>\n",
              "      <td>...</td>\n",
              "      <td>0.0</td>\n",
              "      <td>0.0</td>\n",
              "      <td>0.0</td>\n",
              "      <td>0.0</td>\n",
              "      <td>-1.0</td>\n",
              "      <td>-1.0</td>\n",
              "      <td>1.0</td>\n",
              "      <td>-1.0</td>\n",
              "      <td>1.0</td>\n",
              "      <td>-1.0</td>\n",
              "    </tr>\n",
              "    <tr>\n",
              "      <th>3</th>\n",
              "      <td>3</td>\n",
              "      <td>b'A309460902'</td>\n",
              "      <td>b'A3094609'</td>\n",
              "      <td>2010.0</td>\n",
              "      <td>1.0</td>\n",
              "      <td>1.0</td>\n",
              "      <td>1.0</td>\n",
              "      <td>32.0</td>\n",
              "      <td>2.0</td>\n",
              "      <td>2.0</td>\n",
              "      <td>...</td>\n",
              "      <td>0.0</td>\n",
              "      <td>1.0</td>\n",
              "      <td>0.0</td>\n",
              "      <td>0.0</td>\n",
              "      <td>-1.0</td>\n",
              "      <td>-1.0</td>\n",
              "      <td>-1.0</td>\n",
              "      <td>-1.0</td>\n",
              "      <td>-1.0</td>\n",
              "      <td>1.0</td>\n",
              "    </tr>\n",
              "    <tr>\n",
              "      <th>4</th>\n",
              "      <td>5</td>\n",
              "      <td>b'A310980901'</td>\n",
              "      <td>b'A3109809'</td>\n",
              "      <td>2010.0</td>\n",
              "      <td>1.0</td>\n",
              "      <td>1.0</td>\n",
              "      <td>1.0</td>\n",
              "      <td>80.0</td>\n",
              "      <td>1.0</td>\n",
              "      <td>1.0</td>\n",
              "      <td>...</td>\n",
              "      <td>0.0</td>\n",
              "      <td>0.0</td>\n",
              "      <td>0.0</td>\n",
              "      <td>0.0</td>\n",
              "      <td>-1.0</td>\n",
              "      <td>-1.0</td>\n",
              "      <td>-1.0</td>\n",
              "      <td>-1.0</td>\n",
              "      <td>1.0</td>\n",
              "      <td>-1.0</td>\n",
              "    </tr>\n",
              "  </tbody>\n",
              "</table>\n",
              "<p>5 rows × 123 columns</p>\n",
              "</div>\n",
              "      <button class=\"colab-df-convert\" onclick=\"convertToInteractive('df-40cd9cb3-8f20-44fa-acdd-628e6f6914f1')\"\n",
              "              title=\"Convert this dataframe to an interactive table.\"\n",
              "              style=\"display:none;\">\n",
              "        \n",
              "  <svg xmlns=\"http://www.w3.org/2000/svg\" height=\"24px\"viewBox=\"0 0 24 24\"\n",
              "       width=\"24px\">\n",
              "    <path d=\"M0 0h24v24H0V0z\" fill=\"none\"/>\n",
              "    <path d=\"M18.56 5.44l.94 2.06.94-2.06 2.06-.94-2.06-.94-.94-2.06-.94 2.06-2.06.94zm-11 1L8.5 8.5l.94-2.06 2.06-.94-2.06-.94L8.5 2.5l-.94 2.06-2.06.94zm10 10l.94 2.06.94-2.06 2.06-.94-2.06-.94-.94-2.06-.94 2.06-2.06.94z\"/><path d=\"M17.41 7.96l-1.37-1.37c-.4-.4-.92-.59-1.43-.59-.52 0-1.04.2-1.43.59L10.3 9.45l-7.72 7.72c-.78.78-.78 2.05 0 2.83L4 21.41c.39.39.9.59 1.41.59.51 0 1.02-.2 1.41-.59l7.78-7.78 2.81-2.81c.8-.78.8-2.07 0-2.86zM5.41 20L4 18.59l7.72-7.72 1.47 1.35L5.41 20z\"/>\n",
              "  </svg>\n",
              "      </button>\n",
              "      \n",
              "  <style>\n",
              "    .colab-df-container {\n",
              "      display:flex;\n",
              "      flex-wrap:wrap;\n",
              "      gap: 12px;\n",
              "    }\n",
              "\n",
              "    .colab-df-convert {\n",
              "      background-color: #E8F0FE;\n",
              "      border: none;\n",
              "      border-radius: 50%;\n",
              "      cursor: pointer;\n",
              "      display: none;\n",
              "      fill: #1967D2;\n",
              "      height: 32px;\n",
              "      padding: 0 0 0 0;\n",
              "      width: 32px;\n",
              "    }\n",
              "\n",
              "    .colab-df-convert:hover {\n",
              "      background-color: #E2EBFA;\n",
              "      box-shadow: 0px 1px 2px rgba(60, 64, 67, 0.3), 0px 1px 3px 1px rgba(60, 64, 67, 0.15);\n",
              "      fill: #174EA6;\n",
              "    }\n",
              "\n",
              "    [theme=dark] .colab-df-convert {\n",
              "      background-color: #3B4455;\n",
              "      fill: #D2E3FC;\n",
              "    }\n",
              "\n",
              "    [theme=dark] .colab-df-convert:hover {\n",
              "      background-color: #434B5C;\n",
              "      box-shadow: 0px 1px 3px 1px rgba(0, 0, 0, 0.15);\n",
              "      filter: drop-shadow(0px 1px 2px rgba(0, 0, 0, 0.3));\n",
              "      fill: #FFFFFF;\n",
              "    }\n",
              "  </style>\n",
              "\n",
              "      <script>\n",
              "        const buttonEl =\n",
              "          document.querySelector('#df-40cd9cb3-8f20-44fa-acdd-628e6f6914f1 button.colab-df-convert');\n",
              "        buttonEl.style.display =\n",
              "          google.colab.kernel.accessAllowed ? 'block' : 'none';\n",
              "\n",
              "        async function convertToInteractive(key) {\n",
              "          const element = document.querySelector('#df-40cd9cb3-8f20-44fa-acdd-628e6f6914f1');\n",
              "          const dataTable =\n",
              "            await google.colab.kernel.invokeFunction('convertToInteractive',\n",
              "                                                     [key], {});\n",
              "          if (!dataTable) return;\n",
              "\n",
              "          const docLinkHtml = 'Like what you see? Visit the ' +\n",
              "            '<a target=\"_blank\" href=https://colab.research.google.com/notebooks/data_table.ipynb>data table notebook</a>'\n",
              "            + ' to learn more about interactive tables.';\n",
              "          element.innerHTML = '';\n",
              "          dataTable['output_type'] = 'display_data';\n",
              "          await google.colab.output.renderOutput(dataTable, element);\n",
              "          const docLink = document.createElement('div');\n",
              "          docLink.innerHTML = docLinkHtml;\n",
              "          element.appendChild(docLink);\n",
              "        }\n",
              "      </script>\n",
              "    </div>\n",
              "  </div>\n",
              "  "
            ]
          },
          "metadata": {},
          "execution_count": 12
        }
      ]
    },
    {
      "cell_type": "code",
      "source": [
        "region_not_old_g.shape"
      ],
      "metadata": {
        "colab": {
          "base_uri": "https://localhost:8080/"
        },
        "id": "TRWJGma833iK",
        "outputId": "51fc4846-326f-4a18-9560-cb0ee69ef62f"
      },
      "execution_count": null,
      "outputs": [
        {
          "output_type": "execute_result",
          "data": {
            "text/plain": [
              "(31341, 123)"
            ]
          },
          "metadata": {},
          "execution_count": 13
        }
      ]
    },
    {
      "cell_type": "code",
      "source": [
        "region_old_g.loc[region_old_g['region'] == 1, 'region'] = '서울'\n",
        "region_old_g.loc[region_old_g['region'] == 2, 'region'] = '부산'\n",
        "region_old_g.loc[region_old_g['region'] == 3, 'region'] = '대구'\n",
        "region_old_g.loc[region_old_g['region'] == 4, 'region'] = '인천'\n",
        "region_old_g.loc[region_old_g['region'] == 5, 'region'] = '광주'\n",
        "region_old_g.loc[region_old_g['region'] == 6, 'region'] = '대전'\n",
        "region_old_g.loc[region_old_g['region'] == 7, 'region'] = '울산'\n",
        "region_old_g.loc[region_old_g['region'] == 8, 'region'] = '세종'\n",
        "region_old_g.loc[region_old_g['region'] == 9, 'region'] = '경기'\n",
        "region_old_g.loc[region_old_g['region'] == 10, 'region'] = '강원'\n",
        "region_old_g.loc[region_old_g['region'] == 11, 'region'] = '충북'\n",
        "region_old_g.loc[region_old_g['region'] == 12, 'region'] = '충남'\n",
        "region_old_g.loc[region_old_g['region'] == 13, 'region'] = '전북'\n",
        "region_old_g.loc[region_old_g['region'] == 14, 'region'] = '전남'\n",
        "region_old_g.loc[region_old_g['region'] == 15, 'region'] = '경북'\n",
        "region_old_g.loc[region_old_g['region'] == 16, 'region'] = '경남'\n",
        "region_old_g.loc[region_old_g['region'] == 17, 'region'] = '제주'\n",
        "     "
      ],
      "metadata": {
        "id": "Pxqpe4pc8JQt"
      },
      "execution_count": null,
      "outputs": []
    },
    {
      "cell_type": "code",
      "source": [
        "region_not_old_g.loc[region_not_old_g['region'] == 1, 'region'] = '서울'\n",
        "region_not_old_g.loc[region_not_old_g['region'] == 2, 'region'] = '부산'\n",
        "region_not_old_g.loc[region_not_old_g['region'] == 3, 'region'] = '대구'\n",
        "region_not_old_g.loc[region_not_old_g['region'] == 4, 'region'] = '인천'\n",
        "region_not_old_g.loc[region_not_old_g['region'] == 5, 'region'] = '광주'\n",
        "region_not_old_g.loc[region_not_old_g['region'] == 6, 'region'] = '대전'\n",
        "region_not_old_g.loc[region_not_old_g['region'] == 7, 'region'] = '울산'\n",
        "region_not_old_g.loc[region_not_old_g['region'] == 8, 'region'] = '세종'\n",
        "region_not_old_g.loc[region_not_old_g['region'] == 9, 'region'] = '경기'\n",
        "region_not_old_g.loc[region_not_old_g['region'] == 10, 'region'] = '강원'\n",
        "region_not_old_g.loc[region_not_old_g['region'] == 11, 'region'] = '충북'\n",
        "region_not_old_g.loc[region_not_old_g['region'] == 12, 'region'] = '충남'\n",
        "region_not_old_g.loc[region_not_old_g['region'] == 13, 'region'] = '전북'\n",
        "region_not_old_g.loc[region_not_old_g['region'] == 14, 'region'] = '전남'\n",
        "region_not_old_g.loc[region_not_old_g['region'] == 15, 'region'] = '경북'\n",
        "region_not_old_g.loc[region_not_old_g['region'] == 16, 'region'] = '경남'\n",
        "region_not_old_g.loc[region_not_old_g['region'] == 17, 'region'] = '제주'\n",
        "     "
      ],
      "metadata": {
        "id": "hAJlawBd9LTi"
      },
      "execution_count": null,
      "outputs": []
    },
    {
      "cell_type": "markdown",
      "source": [
        "#독거노인"
      ],
      "metadata": {
        "id": "A4hrlSoOlVq3"
      }
    },
    {
      "cell_type": "code",
      "source": [
        "columns = ['incm',\n",
        " 'ho_incm',\n",
        " 'incm5',\n",
        " 'ho_incm5',\n",
        " 'edu',\n",
        " 'occp',\n",
        " 'cfam',\n",
        " 'genertn',\n",
        " 'allownc',\n",
        " 'marri_1',\n",
        " 'marri_2',\n",
        " 'fam_rela',\n",
        " 'tins',\n",
        " 'D_1_1',\n",
        " 'educ',\n",
        " 'EC1_1',\n",
        " 'EC_wht_23',\n",
        " 'EC_wht_5',\n",
        " 'EC_pedu_1',\n",
        " 'EC_pedu_2',\n",
        " 'BD1_11',\n",
        " 'BD2_1',\n",
        " 'BD2_31',\n",
        " 'dr_month',\n",
        " 'BP6_10',\n",
        " 'BP7',\n",
        " 'mh_stress',\n",
        " 'BS3_1',\n",
        " 'BE3_31',\n",
        " 'BE5_1',\n",
        " 'LW_mt','LW_mt_a1',\n",
        " 'LW_br',\n",
        " 'HE_fst',\n",
        " 'HE_HPdr',\n",
        " 'HE_DMdr',\n",
        " 'HE_mens',\n",
        " 'HE_prg',\n",
        " 'HE_HPfh1',\n",
        " 'HE_HPfh2',\n",
        " 'HE_HPfh3',\n",
        " 'HE_HLfh1',\n",
        " 'HE_HLfh2',\n",
        " 'HE_HLfh3',\n",
        " 'HE_IHDfh1',\n",
        " 'HE_IHDfh2',\n",
        " 'HE_IHDfh3',\n",
        " 'HE_STRfh1',\n",
        " 'HE_STRfh2',\n",
        " 'HE_STRfh3',\n",
        " 'HE_DMfh1',\n",
        " 'HE_DMfh2',\n",
        " 'HE_DMfh3',\n",
        " 'HE_rPLS',\n",
        " 'HE_sbp',\n",
        " 'HE_dbp',\n",
        " 'HE_ht',\n",
        " 'HE_wt',\n",
        " 'HE_wc',\n",
        " 'HE_BMI',\n",
        " 'HE_glu',\n",
        " 'HE_HbA1c',\n",
        " 'HE_chol',\n",
        " 'HE_HDL_st2',\n",
        " 'HE_TG',\n",
        " 'HE_ast',\n",
        " 'HE_alt',\n",
        " 'HE_hepaB',\n",
        " 'HE_HB',\n",
        " 'HE_HCT',\n",
        " 'HE_BUN',\n",
        " 'HE_crea',\n",
        " 'HE_WBC',\n",
        " 'HE_RBC',\n",
        " 'HE_Bplt',\n",
        " 'HE_Uph',\n",
        "  'HE_Unitr',\n",
        " 'HE_Usg',\n",
        " 'HE_Upro',\n",
        " 'HE_Uglu',\n",
        " 'HE_Uket',\n",
        " 'HE_Ubil',\n",
        " 'HE_Ubld',\n",
        " 'HE_Uro',\n",
        " 'HE_Ucrea',\n",
        " 'N_INTK',\n",
        " 'N_EN',\n",
        " 'N_WATER',\n",
        " 'N_PROT',\n",
        " 'N_FAT',\n",
        " 'N_CHO',\n",
        " 'N_CA',\n",
        " 'N_PHOS',\n",
        " 'N_FE',\n",
        " 'N_NA',\n",
        " 'N_K',\n",
        " 'N_CAROT',\n",
        " 'N_RETIN',\n",
        " 'N_B1',\n",
        " 'N_B2',\n",
        " 'N_NIAC',\n",
        " 'N_VITC',\n",
        " '비만',\n",
        " '고혈압',\n",
        " '당뇨병',\n",
        " '고콜레스테롤혈증',\n",
        " '고중성지방혈증',\n",
        " 'B형간염',\n",
        " '빈혈',\n",
        " '뇌졸중',\n",
        " '협심증또는심근경색증',\n",
        " '천식',\n",
        " '아토피피부염',\n",
        " '골관절염',\n",
        " '우울증']"
      ],
      "metadata": {
        "id": "igCaIBQbeXDu"
      },
      "execution_count": null,
      "outputs": []
    },
    {
      "cell_type": "code",
      "source": [
        "young.plot(color='grey', kind='bar', rot=0)\n",
        "plt.title(\"중년층 지역별 incm\")\n",
        "plt.tight_layout()"
      ],
      "metadata": {
        "colab": {
          "base_uri": "https://localhost:8080/",
          "height": 297
        },
        "id": "il7gRT7L_ml5",
        "outputId": "ad451d52-fded-422b-dfd9-c20efd198930"
      },
      "execution_count": null,
      "outputs": [
        {
          "output_type": "display_data",
          "data": {
            "text/plain": [
              "<Figure size 432x288 with 1 Axes>"
            ],
            "image/png": "[encoded data removed]"
          },
          "metadata": {
            "needs_background": "light"
          }
        }
      ]
    },
    {
      "cell_type": "code",
      "source": [
        "old.plot(color='grey', kind='bar', rot=0)\n",
        "plt.title(\"독거노인 지역별 incm\")\n",
        "plt.tight_layout()"
      ],
      "metadata": {
        "colab": {
          "base_uri": "https://localhost:8080/",
          "height": 297
        },
        "id": "M6_JeuGO_q7N",
        "outputId": "c68565c4-294d-427a-f126-4cda56a3309b"
      },
      "execution_count": null,
      "outputs": [
        {
          "output_type": "display_data",
          "data": {
            "text/plain": [
              "<Figure size 432x288 with 1 Axes>"
            ],
            "image/png": "[encoded data removed]"
          },
          "metadata": {
            "needs_background": "light"
          }
        }
      ]
    },
    {
      "cell_type": "code",
      "source": [
        "young = region_not_old_g[region_not_old_g['골관절염']==1].groupby('region').골관절염.size()/len(region_not_old_g['region'])\n",
        "old = region_old_g[region_old_g['골관절염']==1].groupby('region').골관절염.size()/len(region_old_g['region'])"
      ],
      "metadata": {
        "id": "jwp-K-bF98L8"
      },
      "execution_count": null,
      "outputs": []
    },
    {
      "cell_type": "code",
      "source": [
        "young.plot(color='grey', kind='bar', rot=0)\n",
        "plt.title(\"중년층 지역별 {}\".format(feature))\n",
        "plt.tight_layout()"
      ],
      "metadata": {
        "colab": {
          "base_uri": "https://localhost:8080/",
          "height": 297
        },
        "id": "W1C2pVz4-P-4",
        "outputId": "b1cc528d-21cb-443c-e602-c1f9d3821658"
      },
      "execution_count": null,
      "outputs": [
        {
          "output_type": "display_data",
          "data": {
            "text/plain": [
              "<Figure size 432x288 with 1 Axes>"
            ],
            "image/png": "[encoded data removed]"
          },
          "metadata": {
            "needs_background": "light"
          }
        }
      ]
    },
    {
      "cell_type": "code",
      "source": [
        "old.plot(color='grey', kind='bar', rot=0)\n",
        "plt.title(\"독거노인 지역별 {}\".format(feature))\n",
        "plt.tight_layout()"
      ],
      "metadata": {
        "colab": {
          "base_uri": "https://localhost:8080/",
          "height": 297
        },
        "id": "4Y9daCCF-aGc",
        "outputId": "771664aa-2c25-4404-f430-a36c56789e0c"
      },
      "execution_count": null,
      "outputs": [
        {
          "output_type": "display_data",
          "data": {
            "text/plain": [
              "<Figure size 432x288 with 1 Axes>"
            ],
            "image/png": "[encoded data removed]"
          },
          "metadata": {
            "needs_background": "light"
          }
        }
      ]
    },
    {
      "cell_type": "code",
      "source": [
        "depression = region_old_g[region_old_g['우울증']==1].groupby('region').우울증.size()/len(region_old_g['region'])\n",
        "depression.plot(color='grey', kind='bar', rot=0)\n",
        "plt.title(\"독거노인 지역별 우울증\")\n",
        "plt.tight_layout()"
      ],
      "metadata": {
        "colab": {
          "base_uri": "https://localhost:8080/",
          "height": 297
        },
        "id": "Jc3T99PJ7rie",
        "outputId": "5a69bef0-dfee-418d-cf7d-abb0dcf651a3"
      },
      "execution_count": null,
      "outputs": [
        {
          "output_type": "display_data",
          "data": {
            "text/plain": [
              "<Figure size 432x288 with 1 Axes>"
            ],
            "image/png": "[encoded data removed]"
          },
          "metadata": {
            "needs_background": "light"
          }
        }
      ]
    },
    {
      "cell_type": "code",
      "source": [
        "y_depression = region_not_old_g[region_not_old_g['우울증']==1].groupby('region').우울증.size()/len(region_not_old_g['region'])\n",
        "y_depression.plot(color='grey', kind='bar', rot=0)\n",
        "plt.title(\"중년층 지역별 우울증\")\n",
        "plt.tight_layout()"
      ],
      "metadata": {
        "colab": {
          "base_uri": "https://localhost:8080/",
          "height": 297
        },
        "id": "GihPqlKG8_b-",
        "outputId": "98e94884-d23d-4d2c-c98a-f8260238eb3f"
      },
      "execution_count": null,
      "outputs": [
        {
          "output_type": "display_data",
          "data": {
            "text/plain": [
              "<Figure size 432x288 with 1 Axes>"
            ],
            "image/png": "[encoded data removed]"
          },
          "metadata": {
            "needs_background": "light"
          }
        }
      ]
    },
    {
      "cell_type": "code",
      "source": [
        "def plot_bar(feature):\n",
        "  plot_region = region_old_g[region_old_g['우울증']==1].groupby('region').우울증.size()/len(region_old_g['region'])\n",
        "  plot_region.plot(color='grey', kind='bar', rot=0)\n",
        "  plt.title(feature)\n",
        "  plt.tight_layout()"
      ],
      "metadata": {
        "id": "vW7gTImeex6m"
      },
      "execution_count": null,
      "outputs": []
    },
    {
      "cell_type": "code",
      "source": [
        "for i in range(len(columns)):\n",
        "  feature = columns[i]\n",
        "  plot_bar(feature)"
      ],
      "metadata": {
        "id": "ghxoxSL5e-Pz"
      },
      "execution_count": null,
      "outputs": []
    },
    {
      "cell_type": "code",
      "source": [
        "region = region_df[region_df['당뇨병']==1].groupby('region')['당뇨병'].size()\n",
        "\n",
        "region.plot(color='grey', kind='bar', rot=0)\n",
        "plt.title(\"지역별 당뇨병\")\n",
        "plt.tight_layout()"
      ],
      "metadata": {
        "id": "_M2iwd5mcfdK"
      },
      "execution_count": null,
      "outputs": []
    },
    {
      "cell_type": "code",
      "source": [
        "region_df.loc[region_df['region']==1, 'region']"
      ],
      "metadata": {
        "id": "JgN7eisxby2a"
      },
      "execution_count": null,
      "outputs": []
    }
  ]
}